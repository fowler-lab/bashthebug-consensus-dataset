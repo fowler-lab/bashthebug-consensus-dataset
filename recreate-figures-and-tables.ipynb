{
 "cells": [
  {
   "cell_type": "code",
   "execution_count": 1,
   "metadata": {},
   "outputs": [],
   "source": [
    "import pyniverse, bashthebug, copy, numpy, math, pandas, seaborn, time, random, glob, pathlib\n",
    "from tqdm import tqdm\n",
    "import matplotlib.pyplot as plt\n",
    "\n",
    "from scipy import stats\n",
    "from pandas.api.types import CategoricalDtype\n",
    "\n",
    "from additional_functions import *\n",
    "\n",
    "pandas.set_option('display.max_columns', 500)\n",
    "pandas.set_option('display.max_rows', 150)\n",
    "\n",
    "plt.rcParams.update({'font.size': 12})\n",
    "\n",
    "%load_ext autoreload\n",
    "%autoreload 2\n",
    "\n",
    "LABORATORY_LOOKUP={'03':'A','04':'B','05':'C','06':'D','07':'E','10':'G','08':'H'}\n",
    "\n",
    "bashthebug_colours={'red':'#dc2d4c','green':'#9ab51e','blue':'#c8e6e8'}"
   ]
  },
  {
   "cell_type": "code",
   "execution_count": 2,
   "metadata": {},
   "outputs": [
    {
     "data": {
      "text/plain": [
       "'1.3.4'"
      ]
     },
     "execution_count": 2,
     "metadata": {},
     "output_type": "execute_result"
    }
   ],
   "source": [
    "pandas.__version__"
   ]
  },
  {
   "cell_type": "markdown",
   "metadata": {},
   "source": [
    "The below uses the logic for creating a consensus reading if the number of classifications ≥ threshold\n",
    "\n",
    "```\n",
    "classifications_threshold=11, valid_threshold=6\n",
    "```\n",
    "\n",
    "* remove failed readings (-20)\n",
    "* if number_failed (-1 or -2) / number_remaining >= 0.5 or number_remaining < valid_threshold (6) then median == -1\n",
    "* otherwise return ceil(median)\n"
   ]
  },
  {
   "cell_type": "code",
   "execution_count": 33,
   "metadata": {},
   "outputs": [
    {
     "name": "stdout",
     "output_type": "stream",
     "text": [
      "Loading classifications pickle...\n",
      "Creating USERS dataframe...\n",
      "Creating SUMMARY dataframe...\n",
      "Creating DURATIONS dataframe...\n",
      "Reading previously saved dataframes...\n",
      "28.4 seconds\n",
      "Done!\n"
     ]
    }
   ],
   "source": [
    "start=time.time()\n",
    "\n",
    "recompute_classifications=False\n",
    "\n",
    "PHENOTYPES=pandas.read_csv('tables/PHENOTYPES.csv.gz')   \n",
    "PHENOTYPES.set_index(['PLATE','READINGDAY','DRUG'],inplace=True)\n",
    "\n",
    "print(\"Loading classifications pickle...\")\n",
    "BASHTHEBUG=bashthebug.BashTheBugClassifications(pickle_file=\"tables/BASHTHEBUG_CLASSIFICATIONS_SHORT.pkl.gz\",flavour='regular')\n",
    "\n",
    "print(\"Creating USERS dataframe...\")\n",
    "BASHTHEBUG.create_users_table()\n",
    "\n",
    "print(\"Creating SUMMARY dataframe...\")\n",
    "BASHTHEBUG.create_measurements_table(index='PLATE')\n",
    "\n",
    "print(\"Creating DURATIONS dataframe...\")                                               \n",
    "BASHTHEBUG.create_durations_table(index='PLATE')\n",
    "\n",
    "print(\"Reading previously saved dataframes...\")\n",
    "CLASSIFICATIONS=pandas.read_csv(\"tables/CLASSIFICATIONS.csv.gz\",parse_dates=['CREATED_AT'])\n",
    "CLASSIFICATIONS.set_index(['PLATE','READINGDAY','DRUG'],inplace=True)\n",
    "\n",
    "USERS=pandas.read_csv(\"tables/USERS.csv.gz\")\n",
    "USERS.set_index('USER_NAME',inplace=True)\n",
    "\n",
    "SUMMARY_DILUTIONS=pandas.read_csv('tables/SUMMARY_DILUTIONS.csv.gz')\n",
    "SUMMARY_DILUTIONS.set_index(['PLATE','READINGDAY','DRUG'],inplace=True)\n",
    "\n",
    "SUMMARY_DURATIONS=pandas.read_csv('tables/SUMMARY_DURATIONS.csv.gz')\n",
    "SUMMARY_DURATIONS.set_index(['PLATE','READINGDAY','DRUG'],inplace=True)\n",
    "\n",
    "PLATE_LAYOUT=pandas.read_csv('tables/PLATE_LAYOUT.csv.gz')\n",
    "\n",
    "MOD_PHENOTYPES=pandas.read_csv('tables/MOD_PHENOTYPES.csv.gz')\n",
    "MOD_PHENOTYPES.set_index(['PLATE','READINGDAY','DRUG'],inplace=True)\n",
    "\n",
    "MOD_CLASSIFICATIONS=pandas.read_csv('tables/MOD_CLASSIFICATIONS.csv.gz')   \n",
    "MOD_CLASSIFICATIONS.set_index(['PLATE','READINGDAY','DRUG'],inplace=True)\n",
    "\n",
    "CONSENSUS_DATASET=pandas.read_csv('tables/CONSENSUS_DATASET.csv.gz')\n",
    "CONSENSUS_DATASET.set_index(['PLATE','READINGDAY'],inplace=True)\n",
    "    \n",
    "print(\"%.1f seconds\" % (time.time()-start))\n",
    "print(\"Done!\")    "
   ]
  },
  {
   "cell_type": "markdown",
   "metadata": {},
   "source": [
    "# Image dataset\n",
    "\n",
    "## How many strains/vials were considered?"
   ]
  },
  {
   "cell_type": "code",
   "execution_count": 35,
   "metadata": {},
   "outputs": [
    {
     "name": "stdout",
     "output_type": "stream",
     "text": [
      "A total of 447 plates were measured\n"
     ]
    }
   ],
   "source": [
    "PHENOTYPES.reset_index(inplace=True)\n",
    "PHENOTYPES.set_index(['STRAIN','SITEID','REPLICATE'],inplace=True,verify_integrity=False)\n",
    "\n",
    "print(\"A total of \"+str(len(PHENOTYPES.index.unique()))+\" plates were measured\")"
   ]
  },
  {
   "cell_type": "markdown",
   "metadata": {},
   "source": [
    "## Table S1: plates by laboratory"
   ]
  },
  {
   "cell_type": "code",
   "execution_count": 37,
   "metadata": {},
   "outputs": [
    {
     "name": "stdout",
     "output_type": "stream",
     "text": [
      "\\begin{longtable}{rrr|cccccccc}\n",
      "\\caption{List of strains and their repeats tested by laboratory.}\n",
      "\\label{table:S1}\\\\\n",
      "\\toprule\n",
      "      &        & Lab &  A &  B &  C &  D &  E &  G &  H \\\\\n",
      "EQA strain & Vial & Replicate &    &    &    &    &    &    &    \\\\\n",
      "\\midrule\n",
      "\\endfirsthead\n",
      "\\caption[]{List of strains and their repeats tested by laboratory.} \\\\\n",
      "\\toprule\n",
      "      &        & Lab &  A &  B &  C &  D &  E &  G &  H \\\\\n",
      "EQA strain & Vial & Replicate &    &    &    &    &    &    &    \\\\\n",
      "\\midrule\n",
      "\\endhead\n",
      "\\midrule\n",
      "\\multicolumn{10}{r}{{Continued on next page}} \\\\\n",
      "\\midrule\n",
      "\\endfoot\n",
      "\n",
      "\\bottomrule\n",
      "\\endlastfoot\n",
      "WHO-1 & CRY-19 & 1  &  Y &  Y &  Y &  Y &  Y &  Y &  Y \\\\\n",
      "      &        & 2  &  Y &  Y &  Y &  Y &  Y &  Y &  Y \\\\\n",
      "      & CRY-7 & 1  &  Y &  Y &  Y &  Y &  - &  Y &  Y \\\\\n",
      "      &        & 2  &  Y &  Y &  Y &  Y &  - &  Y &  Y \\\\\n",
      "WHO-10 & CRY-18 & 1  &  Y &  Y &  Y &  - &  - &  Y &  Y \\\\\n",
      "      &        & 2  &  Y &  Y &  Y &  - &  - &  Y &  Y \\\\\n",
      "WHO-11 & CRY-16 & 1  &  Y &  Y &  Y &  Y &  Y &  Y &  Y \\\\\n",
      "      &        & 2  &  Y &  Y &  Y &  Y &  Y &  Y &  Y \\\\\n",
      "WHO-12 & CRY-13 & 1  &  Y &  Y &  Y &  - &  Y &  Y &  Y \\\\\n",
      "      &        & 2  &  Y &  Y &  Y &  - &  Y &  Y &  Y \\\\\n",
      "      & CRY-8 & 1  &  Y &  Y &  Y &  Y &  Y &  Y &  Y \\\\\n",
      "      &        & 2  &  Y &  Y &  Y &  Y &  Y &  Y &  Y \\\\\n",
      "WHO-13 & CRY-10 & 1  &  Y &  Y &  Y &  - &  Y &  Y &  Y \\\\\n",
      "      &        & 2  &  Y &  Y &  Y &  - &  Y &  Y &  Y \\\\\n",
      "      & CRY-5 & 1  &  Y &  - &  Y &  Y &  Y &  Y &  Y \\\\\n",
      "      &        & 2  &  Y &  - &  Y &  Y &  Y &  Y &  Y \\\\\n",
      "WHO-14 & CRY-29 & 1  &  Y &  Y &  Y &  - &  Y &  Y &  Y \\\\\n",
      "      &        & 2  &  Y &  Y &  Y &  - &  Y &  Y &  Y \\\\\n",
      "      & CRY-6 & 1  &  Y &  Y &  Y &  Y &  Y &  Y &  Y \\\\\n",
      "      &        & 2  &  Y &  Y &  Y &  Y &  Y &  Y &  Y \\\\\n",
      "WHO-15 & CRY-2 & 1  &  Y &  Y &  Y &  Y &  Y &  Y &  Y \\\\\n",
      "      &        & 2  &  Y &  Y &  Y &  Y &  Y &  Y &  Y \\\\\n",
      "      & CRY-25 & 1  &  Y &  Y &  Y &  - &  Y &  Y &  Y \\\\\n",
      "      &        & 2  &  Y &  Y &  Y &  - &  Y &  Y &  Y \\\\\n",
      "WHO-16 & CRY-12 & 1  &  Y &  Y &  Y &  Y &  Y &  Y &  Y \\\\\n",
      "      &        & 2  &  Y &  Y &  Y &  Y &  Y &  Y &  Y \\\\\n",
      "      & CRY-24 & 1  &  Y &  Y &  Y &  - &  Y &  Y &  Y \\\\\n",
      "      &        & 2  &  Y &  Y &  Y &  - &  Y &  Y &  Y \\\\\n",
      "WHO-17 & CRY-14 & 1  &  Y &  Y &  Y &  Y &  - &  Y &  Y \\\\\n",
      "      &        & 2  &  Y &  Y &  Y &  Y &  - &  Y &  Y \\\\\n",
      "WHO-18 & CRY-20 & 1  &  Y &  Y &  Y &  Y &  Y &  Y &  Y \\\\\n",
      "      &        & 2  &  Y &  Y &  Y &  Y &  Y &  Y &  Y \\\\\n",
      "WHO-19 & CRY-23 & 1  &  Y &  Y &  Y &  Y &  Y &  Y &  Y \\\\\n",
      "      &        & 2  &  Y &  Y &  Y &  Y &  - &  - &  Y \\\\\n",
      "WHO-2 & CRY-26 & 1  &  Y &  Y &  Y &  Y &  Y &  Y &  Y \\\\\n",
      "      &        & 2  &  Y &  Y &  Y &  Y &  Y &  Y &  Y \\\\\n",
      "WHO-3 & CRY-30 & 1  &  Y &  Y &  Y &  - &  Y &  Y &  Y \\\\\n",
      "      &        & 2  &  Y &  Y &  Y &  - &  Y &  Y &  Y \\\\\n",
      "      & CRY-4 & 1  &  Y &  Y &  Y &  Y &  Y &  Y &  Y \\\\\n",
      "      &        & 2  &  Y &  Y &  Y &  Y &  Y &  Y &  Y \\\\\n",
      "WHO-4 & CRY-22 & 1  &  Y &  - &  Y &  - &  Y &  Y &  Y \\\\\n",
      "      &        & 2  &  Y &  - &  Y &  - &  Y &  Y &  Y \\\\\n",
      "      & CRY-9 & 1  &  Y &  - &  Y &  Y &  Y &  Y &  Y \\\\\n",
      "      &        & 2  &  Y &  - &  Y &  Y &  Y &  Y &  Y \\\\\n",
      "WHO-5 & CRY-15 & 1  &  - &  Y &  Y &  Y &  Y &  Y &  Y \\\\\n",
      "      &        & 2  &  - &  Y &  Y &  Y &  Y &  Y &  Y \\\\\n",
      "      & CRY-21 & 1  &  Y &  Y &  Y &  - &  Y &  - &  Y \\\\\n",
      "      &        & 2  &  Y &  Y &  Y &  - &  Y &  Y &  Y \\\\\n",
      "WHO-6 & CRY-11 & 1  &  Y &  Y &  Y &  - &  Y &  Y &  Y \\\\\n",
      "      &        & 2  &  Y &  Y &  Y &  - &  Y &  Y &  Y \\\\\n",
      "      & CRY-3 & 1  &  Y &  Y &  Y &  - &  Y &  Y &  Y \\\\\n",
      "      &        & 2  &  Y &  Y &  Y &  - &  Y &  Y &  Y \\\\\n",
      "      & H37rV & 1  &  Y &  Y &  Y &  Y &  Y &  Y &  Y \\\\\n",
      "      &        & 2  &  Y &  Y &  Y &  Y &  Y &  Y &  Y \\\\\n",
      "      &        & 3  &  Y &  Y &  Y &  Y &  Y &  Y &  Y \\\\\n",
      "      &        & 4  &  Y &  Y &  Y &  Y &  Y &  Y &  Y \\\\\n",
      "      &        & 5  &  Y &  Y &  Y &  Y &  Y &  Y &  Y \\\\\n",
      "      &        & 6  &  Y &  Y &  Y &  Y &  Y &  Y &  Y \\\\\n",
      "      &        & 7  &  Y &  Y &  Y &  Y &  Y &  Y &  Y \\\\\n",
      "      &        & 8  &  Y &  Y &  Y &  Y &  Y &  Y &  Y \\\\\n",
      "      &        & 9  &  Y &  Y &  Y &  Y &  Y &  Y &  Y \\\\\n",
      "      &        & 10 &  Y &  Y &  Y &  Y &  Y &  Y &  Y \\\\\n",
      "WHO-7 & CRY-1 & 1  &  Y &  Y &  Y &  Y &  - &  Y &  Y \\\\\n",
      "      &        & 2  &  Y &  Y &  Y &  Y &  - &  Y &  Y \\\\\n",
      "      & CRY-17 & 1  &  Y &  Y &  Y &  - &  Y &  Y &  Y \\\\\n",
      "      &        & 2  &  Y &  Y &  Y &  - &  Y &  Y &  Y \\\\\n",
      "WHO-8 & CRY-27 & 1  &  Y &  Y &  Y &  Y &  Y &  Y &  Y \\\\\n",
      "      &        & 2  &  Y &  Y &  Y &  Y &  Y &  Y &  Y \\\\\n",
      "WHO-9 & CRY-28 & 1  &  Y &  Y &  Y &  Y &  Y &  Y &  Y \\\\\n",
      "      &        & 2  &  Y &  Y &  Y &  Y &  Y &  Y &  Y \\\\\n",
      "\\end{longtable}\n"
     ]
    }
   ],
   "source": [
    "df=copy.deepcopy(PHENOTYPES)\n",
    "df.reset_index(inplace=True)\n",
    "df.rename(columns={'LABORATORY':'Lab','REPLICATE':'Replicate','EQA_STRAIN':'EQA strain','STRAIN':'Vial'},inplace=True)\n",
    "TABLE=pandas.crosstab([df['EQA strain'],df['Vial'],df['Replicate']],df['Lab'])\n",
    "TABLE.replace(70,\"Y\",inplace=True)\n",
    "TABLE.replace(98,\"Y\",inplace=True)\n",
    "TABLE.replace(112,\"Y\",inplace=True)\n",
    "TABLE.replace(0,\"-\",inplace=True)\n",
    "print(TABLE.to_latex(longtable=True,\\\n",
    "                     caption='List of strains and their repeats tested by laboratory.',\\\n",
    "                     label='table:S1',\\\n",
    "                     column_format='rrr|cccccccc').rstrip())"
   ]
  },
  {
   "cell_type": "markdown",
   "metadata": {},
   "source": [
    "# Project launch and progress\n",
    "\n",
    "## The first week\n",
    "\n",
    "Project launched on 8 April 2017 having beta-tested on 22 March 2017"
   ]
  },
  {
   "cell_type": "code",
   "execution_count": 38,
   "metadata": {},
   "outputs": [
    {
     "data": {
      "text/plain": [
       "PLATE             READINGDAY  DRUG\n",
       "H37rV-08-0009-1   21.0        DLM     2017-03-21 12:41:25\n",
       "CRY-27-08-0001-1  21.0        INH     2017-03-21 12:41:32\n",
       "CRY-24-08-0002-1  14.0        CFZ     2017-03-21 12:41:40\n",
       "CRY-26-08-0002-1  21.0        LEV     2017-03-21 12:41:55\n",
       "CRY-21-08-0002-1  21.0        INH     2017-03-21 12:41:59\n",
       "                                             ...         \n",
       "CRY-30-08-0002-1  14.0        MXF     2017-04-12 23:59:21\n",
       "CRY-1-08-0002-1   14.0        MXF     2017-04-12 23:59:28\n",
       "CRY-3-08-0002-1   14.0        LZD     2017-04-12 23:59:43\n",
       "                              RIF     2017-04-12 23:59:50\n",
       "CRY-8-08-0001-1   14.0        DLM     2017-04-12 23:59:55\n",
       "Name: CREATED_AT, Length: 74949, dtype: object"
      ]
     },
     "execution_count": 38,
     "metadata": {},
     "output_type": "execute_result"
    }
   ],
   "source": [
    "first_week=CLASSIFICATIONS.loc[CLASSIFICATIONS.CREATED_AT<'2017-04-13']\n",
    "first_week.CREATED_AT.sort_values()"
   ]
  },
  {
   "cell_type": "code",
   "execution_count": 39,
   "metadata": {},
   "outputs": [
    {
     "name": "stdout",
     "output_type": "stream",
     "text": [
      "The beta testers did 14162 classifications\n"
     ]
    }
   ],
   "source": [
    "print(\"The beta testers did \"+str(len(first_week.loc[first_week.CREATED_AT<'2017-03-23']))+\" classifications\")"
   ]
  },
  {
   "cell_type": "code",
   "execution_count": 40,
   "metadata": {},
   "outputs": [
    {
     "name": "stdout",
     "output_type": "stream",
     "text": [
      "By the end of the first week a total of 74949 classifications had been done\n"
     ]
    }
   ],
   "source": [
    "print(\"By the end of the first week a total of \"+str(len(first_week))+\" classifications had been done\")"
   ]
  },
  {
   "cell_type": "code",
   "execution_count": 41,
   "metadata": {},
   "outputs": [
    {
     "name": "stdout",
     "output_type": "stream",
     "text": [
      "..by 2029 users of which 1259 had usernames \n"
     ]
    }
   ],
   "source": [
    "print(\"..by \"+str(len(first_week.USER_NAME.unique()))+ \" users of which \"+str(len(first_week.loc[~first_week.ANONYMOUS].USER_NAME.unique()))+ \" had usernames \")"
   ]
  },
  {
   "cell_type": "markdown",
   "metadata": {},
   "source": [
    "## First hundred days (Spiers2019)"
   ]
  },
  {
   "cell_type": "code",
   "execution_count": 42,
   "metadata": {},
   "outputs": [
    {
     "data": {
      "text/plain": [
       "381964"
      ]
     },
     "execution_count": 42,
     "metadata": {},
     "output_type": "execute_result"
    }
   ],
   "source": [
    "FIRST_HUNDRED_DAYS=CLASSIFICATIONS.loc[(CLASSIFICATIONS.CREATED_AT>'2017-04-07') & (CLASSIFICATIONS.CREATED_AT<'2019-07-16')]\n",
    "len(FIRST_HUNDRED_DAYS)"
   ]
  },
  {
   "cell_type": "code",
   "execution_count": 43,
   "metadata": {},
   "outputs": [
    {
     "data": {
      "text/plain": [
       "(6237, 3733)"
      ]
     },
     "execution_count": 43,
     "metadata": {},
     "output_type": "execute_result"
    }
   ],
   "source": [
    "len(FIRST_HUNDRED_DAYS.USER_NAME.unique()), len(FIRST_HUNDRED_DAYS.loc[~FIRST_HUNDRED_DAYS.ANONYMOUS].USER_NAME.unique())"
   ]
  },
  {
   "cell_type": "code",
   "execution_count": 44,
   "metadata": {},
   "outputs": [
    {
     "data": {
      "text/plain": [
       "18.0"
      ]
     },
     "execution_count": 44,
     "metadata": {},
     "output_type": "execute_result"
    }
   ],
   "source": [
    "FIRST_HUNDRED_DAYS.loc[~FIRST_HUNDRED_DAYS.ANONYMOUS].USER_NAME.value_counts().median()"
   ]
  },
  {
   "cell_type": "markdown",
   "metadata": {},
   "source": [
    "Note cannot use `user_ip` since although it might be able to tie together a single user who didn't register, equally single users can have multiple IPs."
   ]
  },
  {
   "cell_type": "markdown",
   "metadata": {},
   "source": [
    "## Figure 2 - Time series"
   ]
  },
  {
   "cell_type": "code",
   "execution_count": 48,
   "metadata": {},
   "outputs": [
    {
     "data": {
      "image/png": "[encoded data removed]",
      "text/plain": [
       "<Figure size 648x360 with 1 Axes>"
      ]
     },
     "metadata": {
      "needs_background": "light"
     },
     "output_type": "display_data"
    }
   ],
   "source": [
    "df=CLASSIFICATIONS[['CREATED_AT']]\n",
    "\n",
    "# set it as the index and then re-sample\n",
    "df.set_index(df.CREATED_AT,inplace=True)\n",
    "\n",
    "BASHTHEBUG._plot_time_bar(df,sampling='day',colour='#dc2d4c',filename='pdf/graph-classifications-time-daily.pdf',add_cumulative=False,yaxis=\"Classifications\")\n",
    "# BASHTHEBUG._plot_time_bar(tmp,sampling='week',colour='#dc2d4c',filename='pdf/graph-classifications-time-weekly.pdf',add_cumulative=False,yaxis=\"Classifications\")"
   ]
  },
  {
   "cell_type": "code",
   "execution_count": 49,
   "metadata": {},
   "outputs": [
    {
     "data": {
      "text/plain": [
       "PLATE             READINGDAY  DRUG\n",
       "H37rV-08-0009-1   21.0        DLM    2017-03-21 12:41:25\n",
       "CRY-27-08-0001-1  21.0        INH    2017-03-21 12:41:32\n",
       "CRY-24-08-0002-1  14.0        CFZ    2017-03-21 12:41:40\n",
       "CRY-26-08-0002-1  21.0        LEV    2017-03-21 12:41:55\n",
       "CRY-21-08-0002-1  21.0        INH    2017-03-21 12:41:59\n",
       "                                             ...        \n",
       "CRY-14-08-0001-1  21.0        EMB    2017-10-11 18:50:07\n",
       "CRY-16-03-0002-1  14.0        EMB    2017-10-11 18:50:19\n",
       "CRY-30-04-0001-1  21.0        EMB    2017-10-11 18:56:17\n",
       "CRY-9-07-0002-1   21.0        EMB    2017-10-11 18:56:24\n",
       "H37rV-03-0002-2   21.0        BDQ    2017-12-19 17:16:45\n",
       "Name: CREATED_AT, Length: 416782, dtype: datetime64[ns]"
      ]
     },
     "execution_count": 49,
     "metadata": {},
     "output_type": "execute_result"
    }
   ],
   "source": [
    "first_set=CLASSIFICATIONS.loc[CLASSIFICATIONS.CREATED_AT<'2019-01-01'].CREATED_AT\n",
    "first_set.sort_values()"
   ]
  },
  {
   "cell_type": "code",
   "execution_count": 50,
   "metadata": {},
   "outputs": [
    {
     "data": {
      "text/plain": [
       "PLATE             READINGDAY  DRUG\n",
       "CRY-13-10-0001-1  10.0        MXF    2020-06-08 18:17:54\n",
       "H37rV-04-0005-1   10.0        MXF    2020-06-08 18:18:41\n",
       "H37rV-05-0009-2   7.0         RFB    2020-06-08 18:25:27\n",
       "CRY-21-04-0002-2  21.0        AMI    2020-06-08 18:25:52\n",
       "CRY-3-07-0001-2   10.0        AMI    2020-06-08 18:25:59\n",
       "                                             ...        \n",
       "CRY-1-08-0002-1   14.0        CFZ    2021-01-19 10:34:26\n",
       "CRY-25-08-0001-1  14.0        MXF    2021-01-19 10:34:33\n",
       "H37rV-08-0001-1   14.0        RIF    2021-01-19 10:34:39\n",
       "CRY-13-08-0002-1  14.0        MXF    2021-01-20 07:20:23\n",
       "CRY-29-08-0002-1  14.0        LEV    2021-01-20 07:21:19\n",
       "Name: CREATED_AT, Length: 371420, dtype: datetime64[ns]"
      ]
     },
     "execution_count": 50,
     "metadata": {},
     "output_type": "execute_result"
    }
   ],
   "source": [
    "second_set=CLASSIFICATIONS.loc[CLASSIFICATIONS.CREATED_AT>'2019-01-01'].CREATED_AT\n",
    "second_set.sort_values()"
   ]
  },
  {
   "cell_type": "markdown",
   "metadata": {},
   "source": [
    "## General description"
   ]
  },
  {
   "cell_type": "code",
   "execution_count": 51,
   "metadata": {},
   "outputs": [
    {
     "name": "stdout",
     "output_type": "stream",
     "text": [
      "9372 volunteers participated doing a total of 788202 classifications\n",
      "This is a mean of 84.1 each\n",
      "but this hides a large amount of variation in the number of classifications done by individual volunteers\n",
      "So, 1115 volunteers only did 1 classification and 4299 did ten or fewer\n"
     ]
    }
   ],
   "source": [
    "print(str(len(USERS))+\" volunteers participated doing a total of \"+str(len(CLASSIFICATIONS))+\" classifications\")\n",
    "\n",
    "print(\"This is a mean of %.1f each\" % (len(CLASSIFICATIONS)/len(USERS)))\n",
    "\n",
    "print(\"but this hides a large amount of variation in the number of classifications done by individual volunteers\")\n",
    "\n",
    "print(\"So, \"+str(len(USERS.loc[USERS.CLASSIFICATIONS==1]))+\" volunteers only did 1 classification and \"+str(len(USERS.loc[USERS.CLASSIFICATIONS<=10]))+\" did ten or fewer\")"
   ]
  },
  {
   "cell_type": "code",
   "execution_count": 52,
   "metadata": {},
   "outputs": [
    {
     "name": "stdout",
     "output_type": "stream",
     "text": [
      "By contrast, the ten volunteers who participated the most did 103569 classifications between them which is 13.1 % of the total \n"
     ]
    }
   ],
   "source": [
    "print(\"By contrast, the ten volunteers who participated the most did %i classifications between them which is %.1f %% of the total \" % (USERS[-10:].CLASSIFICATIONS.sum(),100*USERS[-10:].CLASSIFICATIONS.sum()/len(CLASSIFICATIONS)))"
   ]
  },
  {
   "cell_type": "markdown",
   "metadata": {},
   "source": [
    "## Figure 2 - Gini coefficient"
   ]
  },
  {
   "cell_type": "code",
   "execution_count": 53,
   "metadata": {},
   "outputs": [
    {
     "name": "stdout",
     "output_type": "stream",
     "text": [
      "0.852\n"
     ]
    }
   ],
   "source": [
    "print(\"%.3f\" % (BASHTHEBUG.gini_coefficient))"
   ]
  },
  {
   "cell_type": "code",
   "execution_count": 54,
   "metadata": {},
   "outputs": [
    {
     "data": {
      "image/png": "[encoded data removed]",
      "text/plain": [
       "<Figure size 360x360 with 1 Axes>"
      ]
     },
     "metadata": {
      "needs_background": "light"
     },
     "output_type": "display_data"
    }
   ],
   "source": [
    "BASHTHEBUG.plot_user_classification_distribution(filename=\"pdf/graph-users-gini.pdf\")"
   ]
  },
  {
   "cell_type": "markdown",
   "metadata": {},
   "source": [
    "## Figure S2 - classifications per image"
   ]
  },
  {
   "cell_type": "code",
   "execution_count": 55,
   "metadata": {},
   "outputs": [
    {
     "data": {
      "image/png": "[encoded data removed]",
      "text/plain": [
       "<Figure size 864x288 with 1 Axes>"
      ]
     },
     "metadata": {
      "needs_background": "light"
     },
     "output_type": "display_data"
    }
   ],
   "source": [
    "graph,axes=plt.subplots(1,1,figsize=(12,4))\n",
    "a=axes.hist(SUMMARY_DILUTIONS.COUNT,bins=numpy.arange(0,400,1),density=False,cumulative=False)  \n",
    "axes.set_yscale('log')\n",
    "axes.set_xticks([0,15,25,50,100,200,400]) \n",
    "axes.set_xlim([0,400]) \n",
    "axes.set_xlabel('Number of classifications per drug image')\n",
    "axes.set_ylabel('Number of drug images (log scale)')\n",
    "graph.savefig('pdf/hist-classifications-per-image.pdf')"
   ]
  },
  {
   "cell_type": "markdown",
   "metadata": {},
   "source": [
    "## Task duration\n",
    "\n",
    "How does the mean time taken as we exclude different bits of the tail?"
   ]
  },
  {
   "cell_type": "code",
   "execution_count": 56,
   "metadata": {},
   "outputs": [
    {
     "name": "stdout",
     "output_type": "stream",
     "text": [
      "   30    56017 7.3\n",
      "   60    30496 8.4\n",
      "  100    20997 9.3\n",
      "  200    11979 10.8\n",
      "  300     7986 12.0\n",
      "  600     4593 13.7\n",
      " 1800     2406 16.4\n",
      " 3600     1592 19.1\n",
      " 7200     1099 22.2\n"
     ]
    }
   ],
   "source": [
    "for i in [30, 60, 100,200,300,600,1800,3600,7200]:\n",
    "    print (\"%5i %8i %.1f\" % (i, numpy.sum(CLASSIFICATIONS.TASK_DURATION>i), CLASSIFICATIONS.loc[CLASSIFICATIONS.TASK_DURATION<i].TASK_DURATION.mean()))"
   ]
  },
  {
   "cell_type": "markdown",
   "metadata": {},
   "source": [
    "## Figure 2, S3 task duration by reading day"
   ]
  },
  {
   "cell_type": "code",
   "execution_count": 57,
   "metadata": {},
   "outputs": [],
   "source": [
    "CLASSIFICATIONS.reset_index(inplace=True)"
   ]
  },
  {
   "cell_type": "code",
   "execution_count": 58,
   "metadata": {},
   "outputs": [
    {
     "data": {
      "image/png": "[encoded data removed]",
      "text/plain": [
       "<Figure size 504x288 with 1 Axes>"
      ]
     },
     "metadata": {
      "needs_background": "light"
     },
     "output_type": "display_data"
    }
   ],
   "source": [
    "colour_lookup={ 14:'#dc2d4c',\\\n",
    "                 7:'#9ab51e',\\\n",
    "                10:'#c8e6e8',\\\n",
    "                21:'#9ab51e' }\n",
    "\n",
    "\n",
    "for reading_day in [7,10,14,21]:\n",
    "\n",
    "    path=pathlib.Path.cwd() / 'pdf' / str(reading_day) / 'duration'\n",
    "    path.mkdir(parents=True,exist_ok=True)\n",
    "    \n",
    "    df=copy.deepcopy(CLASSIFICATIONS.loc[CLASSIFICATIONS.READINGDAY==reading_day])\n",
    "    \n",
    "    graph,axes=plt.subplots(1,1,figsize=(7,4))\n",
    "    a=axes.hist(df.TASK_DURATION,bins=numpy.arange(0,30,0.1),density=True,color=colour_lookup[reading_day])    \n",
    "    axes.set_ylim([0,0.22])\n",
    "    axes.set_yticks([0,0.1,0.2])\n",
    "    \n",
    "    df['TASK_DURATION_BIN']=pandas.cut(df.TASK_DURATION,bins=numpy.arange(0,30,0.1),labels=False,retbins=False)\n",
    "    duration_mode=df.TASK_DURATION_BIN.mode()/10\n",
    "    if len(duration_mode)>1:\n",
    "        duration_mode=duration_mode[0]\n",
    "    axes.plot([duration_mode,duration_mode],[0,0.2],color='white')\n",
    "    axes.text(duration_mode+0.5,0.03,\"mode = \"+str(float(duration_mode))+\" s\",color='white',weight='bold')\n",
    "\n",
    "    graph.savefig(path / 'hist-task-duration.pdf')\n",
    "    \n",
    "    if reading_day!=14:\n",
    "        plt.close()"
   ]
  },
  {
   "cell_type": "markdown",
   "metadata": {},
   "source": [
    "## Figure S4 - Task duration by drug after 14 days of incubation"
   ]
  },
  {
   "cell_type": "code",
   "execution_count": 59,
   "metadata": {},
   "outputs": [
    {
     "name": "stderr",
     "output_type": "stream",
     "text": [
      "100%|███████████████████████████████████████████| 15/15 [00:07<00:00,  2.02it/s]\n"
     ]
    }
   ],
   "source": [
    "colours=['#dc2d4c','#9ab51e','#c8e6e8']\n",
    "\n",
    "counter=0\n",
    "\n",
    "path=pathlib.Path.cwd() / 'pdf' / '14' / 'duration'\n",
    "path.mkdir(parents=True,exist_ok=True)\n",
    "\n",
    "for drug in tqdm(PLATE_LAYOUT.DRUG.unique()):\n",
    "    \n",
    "    if drug=='POS':\n",
    "        continue \n",
    "        \n",
    "    df=copy.deepcopy(CLASSIFICATIONS.loc[(CLASSIFICATIONS.READINGDAY==14) & (CLASSIFICATIONS.DRUG==drug)])\n",
    "    \n",
    "    graph,axes=plt.subplots(1,1,figsize=(7,4))\n",
    "    a=axes.hist(df.TASK_DURATION,bins=numpy.arange(0,30,0.1),density=True,color=colours[counter % 3])    \n",
    "    axes.set_ylim([0,0.25])\n",
    "    axes.set_yticks([0,0.1,0.2])\n",
    "    \n",
    "    df['TASK_DURATION_BIN']=pandas.cut(df.TASK_DURATION,bins=numpy.arange(0,30,0.2),labels=False,retbins=False)\n",
    "    duration_mode=df.TASK_DURATION_BIN.mode()/5\n",
    "    if len(duration_mode)>1:\n",
    "        duration_mode=duration_mode[0]\n",
    "    axes.plot([duration_mode,duration_mode],[0,0.2],color='white')\n",
    "    axes.text(duration_mode+0.5,0.03,\"mode = \"+str(float(duration_mode))+\" s\",color='white',weight='bold')\n",
    "    axes.text(28,0.2,drug,color=colours[counter%3])\n",
    "    counter+=1\n",
    "\n",
    "    filename='hist-task-duration-'+drug+'.pdf'\n",
    "    \n",
    "    graph.savefig(path / filename)\n",
    "    \n",
    "    plt.close()"
   ]
  },
  {
   "cell_type": "code",
   "execution_count": 60,
   "metadata": {},
   "outputs": [
    {
     "data": {
      "text/plain": [
       "(421, 89)"
      ]
     },
     "execution_count": 60,
     "metadata": {},
     "output_type": "execute_result"
    }
   ],
   "source": [
    "numpy.sum(SUMMARY_DILUTIONS.COUNT>=34),numpy.sum(SUMMARY_DILUTIONS.COUNT>=100)"
   ]
  },
  {
   "cell_type": "code",
   "execution_count": 61,
   "metadata": {},
   "outputs": [
    {
     "data": {
      "text/plain": [
       "43671"
      ]
     },
     "execution_count": 61,
     "metadata": {},
     "output_type": "execute_result"
    }
   ],
   "source": [
    "SUMMARY_DILUTIONS.COUNT.count()"
   ]
  },
  {
   "cell_type": "markdown",
   "metadata": {},
   "source": [
    "# Table S2"
   ]
  },
  {
   "cell_type": "code",
   "execution_count": 62,
   "metadata": {},
   "outputs": [
    {
     "name": "stdout",
     "output_type": "stream",
     "text": [
      "\\begin{table}\n",
      "\\begin{center}\n",
      "\\begin{tabular}{lrl}\n",
      "\\toprule\n",
      "Classifications performed by volunteers &  Number of drug images & Proportion of drug images \\\\\n",
      "\\midrule\n",
      "                             n $\\le$ 14 &                      0 &                       0.0 \\\\\n",
      "                                     15 &                      3 &                       0.0 \\\\\n",
      "                                     16 &                   2659 &                       6.1 \\\\\n",
      "                                     17 &                  34843 &                      79.8 \\\\\n",
      "                                     18 &                   1841 &                       4.2 \\\\\n",
      "                                     19 &                    924 &                       2.1 \\\\\n",
      "                                     20 &                    601 &                       1.4 \\\\\n",
      "                               21 or 22 &                    760 &                       1.7 \\\\\n",
      "                           23, 24 or 25 &                    720 &                       1.6 \\\\\n",
      "                        25 $<$ n $<$ 29 &                    854 &                       2.0 \\\\\n",
      "                        30 $<$ n $<$ 39 &                    132 &                       0.3 \\\\\n",
      "                        40 $<$ n $<$ 49 &                    108 &                       0.2 \\\\\n",
      "                        50 $<$ n $<$ 74 &                    112 &                       0.3 \\\\\n",
      "                        75 $<$ n $<$ 99 &                     26 &                       0.1 \\\\\n",
      "                      100 $<$ n $<$ 149 &                     41 &                       0.1 \\\\\n",
      "                      150 $<$ n $<$ 199 &                     25 &                       0.1 \\\\\n",
      "                      200 $<$ n $<$ 299 &                     14 &                       0.0 \\\\\n",
      "                      300 $<$ n $<$ 499 &                      8 &                       0.0 \\\\\n",
      "\\bottomrule\n",
      "\\end{tabular}\n",
      "\\caption[The number of classifications performed for each drug image]{\\label{table:S2} The number of classifications performed for each drug image. The retirement limit on the Zooniverse platform was set to 17, however, a subset of images recieved many more classifications. }\n",
      "\\end{center}\n",
      "\\end{table}\n",
      "\n"
     ]
    }
   ],
   "source": [
    "a=pandas.cut(SUMMARY_DILUTIONS.COUNT,\\\n",
    "               bins=[0,14,15,16,17,18,19,20,22,25,30,40,50,75,100,150,200,300,500],\\\n",
    "               labels=[\"n $\\le$ 14\",\"15\",\"16\",\"17\",\"18\",\"19\",\"20\",\"21 or 22\",\"23, 24 or 25\",\"25 $<$ n $<$ 29\",\"30 $<$ n $<$ 39\",\"40 $<$ n $<$ 49\",\\\n",
    "                       \"50 $<$ n $<$ 74\",\"75 $<$ n $<$ 99\",\"100 $<$ n $<$ 149\",\"150 $<$ n $<$ 199\",\"200 $<$ n $<$ 299\",\"300 $<$ n $<$ 499\"],\\\n",
    "            right=True).value_counts().sort_index()\n",
    "\n",
    "TABLE=a.to_frame()\n",
    "TABLE.reset_index(inplace=True)\n",
    "TABLE.rename(columns={'index':'Classifications performed by volunteers','COUNT':'Number of drug images'},inplace=True)\n",
    "\n",
    "total=SUMMARY_DILUTIONS.COUNT.count()\n",
    "\n",
    "def calc_prop(row):\n",
    "    return(\"%.1f\" % (100*row['Number of drug images']/total))\n",
    "\n",
    "TABLE['Proportion of drug images']=TABLE.apply(calc_prop,axis=1)\n",
    "\n",
    "print(\"\\\\begin{table}\\n\\\\begin{center}\")\n",
    "print(TABLE.to_latex(index=False,escape=False).rstrip())\n",
    "print(\"\\\\caption[The number of classifications performed for each drug image]{\\\\label{table:S2} The number of classifications performed for each drug image. The retirement limit on the Zooniverse platform was set to 17, however, a subset of images recieved many more classifications. }\")\n",
    "print(\"\\\\end{center}\\n\\\\end{table}\\n\")"
   ]
  },
  {
   "cell_type": "markdown",
   "metadata": {},
   "source": [
    "## Figure 3 - Example drug images"
   ]
  },
  {
   "cell_type": "markdown",
   "metadata": {},
   "source": [
    "This is a bit hacky, but create a textfile of `cp` commands to add 10 samples randomly but reproducibly chosen for each (bashthebug,truth_set_1) coordinate to `DropBox`"
   ]
  },
  {
   "cell_type": "code",
   "execution_count": 33,
   "metadata": {},
   "outputs": [],
   "source": [
    "create_copy_script=False\n",
    "\n",
    "if create_copy_script:\n",
    "\n",
    "    OUTPUT=open('copy-example-drug-images.sh','w')\n",
    "\n",
    "    for ix in range(0,10):\n",
    "        for iy in range(0,10):\n",
    "            df=MOD_CLASSIFICATIONS.loc[(MOD_CLASSIFICATIONS.BASHTHEBUG_DILUTION==ix) & (MOD_CLASSIFICATIONS.TRUTH_SET_3==iy)]\n",
    "            if not df.empty and len(df)>10:\n",
    "                subset=df.sample(n=10,random_state=42)\n",
    "                for i,row in subset.iterrows():\n",
    "                    path=pathlib.Path.cwd() / 'drug-images' / str(iy) / str(ix)\n",
    "                    path.mkdir(parents=True,exist_ok=True)\n",
    "                    OUTPUT.write(\"cp \"+row['PATH']+\" drug-images/\"+str(iy)+\"/\"+str(ix)+'/\\n')\n",
    "\n",
    "    OUTPUT.close()        "
   ]
  },
  {
   "cell_type": "markdown",
   "metadata": {},
   "source": [
    "## Figure S5 - growth histograms"
   ]
  },
  {
   "cell_type": "code",
   "execution_count": 64,
   "metadata": {},
   "outputs": [],
   "source": [
    "CONSENSUS_DATASET.reset_index(inplace=True)"
   ]
  },
  {
   "cell_type": "code",
   "execution_count": 65,
   "metadata": {},
   "outputs": [
    {
     "name": "stdout",
     "output_type": "stream",
     "text": [
      "TRUTH_SET_1 mean growth is 30.6 % \n",
      "MEDIUM    0.783902\n",
      "HIGH      0.140454\n",
      "LOW       0.075644\n",
      "Name: GROWTH, dtype: float64\n",
      "TRUTH_SET_3 mean growth is 30.4 % \n",
      "MEDIUM    0.779180\n",
      "HIGH      0.139956\n",
      "LOW       0.080864\n",
      "Name: GROWTH, dtype: float64\n",
      "TRUTH_SET_2 mean growth is 30.4 % \n",
      "MEDIUM    0.782060\n",
      "HIGH      0.138247\n",
      "LOW       0.079693\n",
      "Name: GROWTH, dtype: float64\n"
     ]
    },
    {
     "data": {
      "image/png": "[encoded data removed]",
      "text/plain": [
       "<Figure size 504x288 with 1 Axes>"
      ]
     },
     "metadata": {
      "needs_background": "light"
     },
     "output_type": "display_data"
    },
    {
     "data": {
      "image/png": "[encoded data removed]",
      "text/plain": [
       "<Figure size 504x288 with 1 Axes>"
      ]
     },
     "metadata": {
      "needs_background": "light"
     },
     "output_type": "display_data"
    },
    {
     "data": {
      "image/png": "[encoded data removed]",
      "text/plain": [
       "<Figure size 504x288 with 1 Axes>"
      ]
     },
     "metadata": {
      "needs_background": "light"
     },
     "output_type": "display_data"
    }
   ],
   "source": [
    "truth_colors={'TRUTH_SET_1':'#850035',\\\n",
    "              'TRUTH_SET_3':'#d51632',\\\n",
    "              'TRUTH_SET_2':'#d468ab' }\n",
    "\n",
    "\n",
    "for i in truth_colors.keys():\n",
    "   \n",
    "    df=copy.deepcopy(CONSENSUS_DATASET.loc[(CONSENSUS_DATASET[i]!=0) &\\\n",
    "                          (CONSENSUS_DATASET.READINGDAY==14) & \\\n",
    "                          (CONSENSUS_DATASET.BOOTSTRAP_RUN==0) &\\\n",
    "                          (CONSENSUS_DATASET.N_CLASSIFICATIONS==3)] )\n",
    "\n",
    "    fig,axes=plt.subplots(1,1,figsize=(7,4))\n",
    "    axes=df.IM_POS_AVERAGE.hist(bins=numpy.arange(0,100,4),color=truth_colors[i])\n",
    "    mean_growth=df.IM_POS_AVERAGE.mean()\n",
    "    max_y=numpy.max(axes.get_ylim())\n",
    "    axes.plot((mean_growth,mean_growth),(0,max_y),color='white')\n",
    "    axes.text(mean_growth+2,max_y/3,'%.1f %%' % (mean_growth),color='white')\n",
    "    axes.plot((10,10),(0,max_y),color='black')\n",
    "    axes.plot((50,50),(0,max_y),color='black')\n",
    "    axes.set_ylim([0,max_y])\n",
    "    print(\"%s mean growth is %.1f %% \" % (i,df.IM_POS_AVERAGE.mean()))\n",
    "    print(df.GROWTH.value_counts(normalize=True))\n",
    "    path=pathlib.Path.cwd() / 'pdf' / '14' / 'growth'\n",
    "    filename='hist-14-'+i.lower()+'-growth.pdf'\n",
    "    path.mkdir(parents=True,exist_ok=True)\n",
    "    fig.savefig(path/filename,bbox_inches=0)\n",
    "\n"
   ]
  },
  {
   "cell_type": "markdown",
   "metadata": {},
   "source": [
    "## Figure 3, S7, S8 - raw heatmaps and dilution distributions"
   ]
  },
  {
   "cell_type": "code",
   "execution_count": 35,
   "metadata": {},
   "outputs": [],
   "source": [
    "MOD_PHENOTYPES.reset_index(inplace=True)\n",
    "MOD_CLASSIFICATIONS.reset_index(inplace=True)\n"
   ]
  },
  {
   "cell_type": "code",
   "execution_count": 36,
   "metadata": {},
   "outputs": [
    {
     "name": "stdout",
     "output_type": "stream",
     "text": [
      "truth_set_1 after  7 days contains  12502 measurements and 160102 classifications\n"
     ]
    },
    {
     "name": "stderr",
     "output_type": "stream",
     "text": [
      "<ipython-input-36-ad4d303e0393>:70: RuntimeWarning: invalid value encountered in long_scalars\n",
      "  agreement_with_expert=[100*grid[i][i]/numpy.sum(grid[i,0:]) for i in range(0,10)]\n"
     ]
    },
    {
     "name": "stdout",
     "output_type": "stream",
     "text": [
      "truth_set_1 after 10 days contains  12474 measurements and 177315 classifications\n",
      "truth_set_1 after 14 days contains  12488 measurements and 206353 classifications\n",
      "truth_set_1 after 21 days contains  12474 measurements and 186624 classifications\n",
      "truth_set_2 after  7 days contains   9744 measurements and 123416 classifications\n"
     ]
    },
    {
     "name": "stderr",
     "output_type": "stream",
     "text": [
      "<ipython-input-36-ad4d303e0393>:70: RuntimeWarning: invalid value encountered in long_scalars\n",
      "  agreement_with_expert=[100*grid[i][i]/numpy.sum(grid[i,0:]) for i in range(0,10)]\n"
     ]
    },
    {
     "name": "stdout",
     "output_type": "stream",
     "text": [
      "truth_set_2 after 10 days contains   9336 measurements and 130273 classifications\n",
      "truth_set_2 after 14 days contains   9402 measurements and 153929 classifications\n",
      "truth_set_2 after 21 days contains  10369 measurements and 155204 classifications\n",
      "truth_set_3 after  7 days contains   5598 measurements and  80197 classifications\n"
     ]
    },
    {
     "name": "stderr",
     "output_type": "stream",
     "text": [
      "<ipython-input-36-ad4d303e0393>:70: RuntimeWarning: invalid value encountered in long_scalars\n",
      "  agreement_with_expert=[100*grid[i][i]/numpy.sum(grid[i,0:]) for i in range(0,10)]\n"
     ]
    },
    {
     "name": "stdout",
     "output_type": "stream",
     "text": [
      "truth_set_3 after 10 days contains   5662 measurements and  85912 classifications\n",
      "truth_set_3 after 14 days contains   6205 measurements and 112163 classifications\n",
      "truth_set_3 after 21 days contains   6394 measurements and 106144 classifications\n"
     ]
    },
    {
     "data": {
      "image/png": "[encoded data removed]",
      "text/plain": [
       "<Figure size 180x576 with 1 Axes>"
      ]
     },
     "metadata": {
      "needs_background": "light"
     },
     "output_type": "display_data"
    }
   ],
   "source": [
    "table=[]\n",
    "pullout_images={}\n",
    "\n",
    "categorical_dilutions = CategoricalDtype(categories=range(10), ordered=True)\n",
    "\n",
    "MOD_CLASSIFICATIONS['BASHTHEBUG_DILUTION']=MOD_CLASSIFICATIONS['BASHTHEBUG_DILUTION'].astype(categorical_dilutions)\n",
    "\n",
    "for truth_set in ['TRUTH_SET_1','TRUTH_SET_2','TRUTH_SET_3']:\n",
    "\n",
    "    MOD_PHENOTYPES[truth_set]=MOD_PHENOTYPES[truth_set].astype(categorical_dilutions)\n",
    "    MOD_CLASSIFICATIONS[truth_set]=MOD_CLASSIFICATIONS[truth_set].astype(categorical_dilutions)\n",
    "    \n",
    "    for reading_day in [7,10,14,21]:\n",
    "       \n",
    "        # subset down to the only those in the truth set\n",
    "        df=MOD_PHENOTYPES.loc[(MOD_PHENOTYPES[truth_set].notna()) & (MOD_PHENOTYPES.READINGDAY==reading_day)]    \n",
    "\n",
    "        # plot the distribution\n",
    "        plot_classifications_hist(df[truth_set],\n",
    "                                  reading_day,\n",
    "                                  'accuracy', \n",
    "                                  truth_set.lower(),\n",
    "                                  'all',\n",
    "                                  'all',\n",
    "                                  'dilution-2',\n",
    "                                  bashthebug_colours['red'])           \n",
    "        \n",
    "        plot_classifications_hist(df[truth_set],\n",
    "                                  reading_day,\n",
    "                                  'accuracy', \n",
    "                                  truth_set.lower(),\n",
    "                                  'all',\n",
    "                                  'all',\n",
    "                                  'dilution-1',\n",
    "                                  truth_colors[truth_set])    \n",
    "\n",
    "        # now join the raw classifications so we can look at classification variability\n",
    "        df2=MOD_CLASSIFICATIONS.loc[(MOD_CLASSIFICATIONS[truth_set].notna()) & (MOD_CLASSIFICATIONS.READINGDAY==reading_day) & (MOD_CLASSIFICATIONS.DRUG!='PAS')]    \n",
    "\n",
    "        plot_classifications_hist(df2['BASHTHEBUG_DILUTION'],\n",
    "                          reading_day,\n",
    "                          'accuracy',        \n",
    "                          truth_set.lower(),\n",
    "                          'all',\n",
    "                          'all',\n",
    "                          'bashthebug-1',\n",
    "                          bashthebug_colours['green'],orientation='horizontal')    \n",
    "        \n",
    "        print(truth_set.lower()+\" after %2i days contains %6i measurements and %6i classifications\" % (reading_day,len(df),len(df2)))\n",
    "        \n",
    "        \n",
    "        \n",
    "        # plot the heatmap\n",
    "        grid=pandas.crosstab(df2[truth_set],df2['BASHTHEBUG_DILUTION'],normalize=True,dropna=False)\n",
    "        plot_heatmap(grid,\\\n",
    "                     reading_day,\n",
    "                     'accuracy',\n",
    "                     truth_set.lower(),\n",
    "                     'all',\n",
    "                     'all',    \n",
    "                     None,\n",
    "                     'all',\n",
    "                     vmax=30)\n",
    "        row=[truth_set,reading_day,len(df),len(df2)]\n",
    "\n",
    "        grid=pandas.crosstab(df2[truth_set],df2['BASHTHEBUG_DILUTION'],normalize=False,dropna=False)\n",
    "\n",
    "        grid=numpy.array(grid)\n",
    "        assert grid.shape==(10,10), 'grid has shape '+str(grid.shape)\n",
    "        agreement_with_expert=[100*grid[i][i]/numpy.sum(grid[i,0:]) for i in range(0,10)]\n",
    "        \n",
    "        fig,axes=plt.subplots(1,1,figsize=(2.5,8))\n",
    "        y=numpy.arange(0,10)\n",
    "        height=1\n",
    "        rects1=axes.barh(y,numpy.nan_to_num(agreement_with_expert),color='lightgrey',height=height)\n",
    "        axes.set_yticks(y)\n",
    "        y_range=axes.get_ylim()\n",
    "        axes.set_ylim(y_range)\n",
    "        axes.set_yticklabels(['NR']+[i for i in range(1,10)])\n",
    "        axes.set_xlim((0,110))\n",
    "        axes.spines['right'].set_visible(False)\n",
    "        axes.spines['top'].set_visible(False)\n",
    "        axes.spines['bottom'].set_visible(False)\n",
    "        axes.set_xticks([])\n",
    "\n",
    "        def autolabel(rects):\n",
    "            \"\"\"\n",
    "            Attach a text label above each bar displaying its height\n",
    "            \"\"\"\n",
    "            for rect in rects:\n",
    "                height = rect.get_width()\n",
    "                axes.text(1.01*height, rect.get_y() + rect.get_height()/2.,\n",
    "                        '%.1f %%' % height,\n",
    "                        ha='left', va='center',color='grey')\n",
    "\n",
    "        autolabel(rects1)\n",
    "\n",
    "        fig.savefig('pdf/'+str(reading_day)+'/accuracy/'+truth_set.lower()+'/all/all/bar-'+str(reading_day)+'-accuracy-'+truth_set.lower()+'-all-expert-agreement.pdf')\n",
    "        \n",
    "        if truth_set=='TRUTH_SET_3' and reading_day==14:\n",
    "            pass\n",
    "        else:\n",
    "            plt.close()\n",
    "    \n",
    "       \n",
    "        # update the row and add to the table\n",
    "        row+=calculate_grid_metrics(grid)\n",
    "        table.append(row)\n",
    "\n",
    "        \n",
    "RAW_SUMMARY=pandas.DataFrame(table,columns=['TRUTH_SET','READINGDAY','N_MEASUREMENTS','N_CLASSIFICATIONS',\\\n",
    "                                        'N','DIAGONAL','UPPER_DIAGONAL','LOWER_DIAGONAL','UPPER_TRIANGLE',\\\n",
    "                                        'LOWER_TRIANGLE','BOTH_NR','TRUTH_OK_METHOD_NR',\\\n",
    "                                        'TRUTH_NR_METHOD_OK','INNER_SQUARE'])\n",
    "\n",
    "RAW_SUMMARY['ESSENTIAL_AGREEMENT']=100*(RAW_SUMMARY['DIAGONAL']+\\\n",
    "                                              RAW_SUMMARY['UPPER_DIAGONAL']+\\\n",
    "                                              RAW_SUMMARY['LOWER_DIAGONAL'])/RAW_SUMMARY['INNER_SQUARE']\n",
    "\n",
    "RAW_SUMMARY['EXACT_AGREEMENT']=100*RAW_SUMMARY['DIAGONAL']/RAW_SUMMARY['INNER_SQUARE']        "
   ]
  },
  {
   "cell_type": "markdown",
   "metadata": {},
   "source": [
    "## Table S3 - truth datasets"
   ]
  },
  {
   "cell_type": "code",
   "execution_count": 37,
   "metadata": {},
   "outputs": [
    {
     "name": "stdout",
     "output_type": "stream",
     "text": [
      "\\begin{table}\n",
      "\\begin{center}\n",
      "\\begin{tabular}{c|crrrr}\n",
      "\\toprule\n",
      "   &        & Measurements & Classifications & Essential agreement & Exact agreement \\\\\n",
      "Reading day & Reference dataset &              &                 &                     &                 \\\\\n",
      "\\midrule\n",
      "\\multirow{2}{*}{7} & Expert+AMyGDA &         5598 &           80197 &              85.2 \\% &          68.7 \\% \\\\\n",
      "   & Expert &        12502 &          160102 &              81.7 \\% &          59.9 \\% \\\\\n",
      "\\cline{1-6}\n",
      "\\multirow{2}{*}{10} & Expert+AMyGDA &         5662 &           85912 &              86.1 \\% &          73.1 \\% \\\\\n",
      "   & Expert &        12474 &          177315 &              82.7 \\% &          63.2 \\% \\\\\n",
      "\\cline{1-6}\n",
      "\\multirow{2}{*}{14} & Expert+AMyGDA &         6205 &          112163 &              86.4 \\% &          74.6 \\% \\\\\n",
      "   & Expert &        12488 &          206353 &              83.3 \\% &          65.3 \\% \\\\\n",
      "\\cline{1-6}\n",
      "\\multirow{2}{*}{21} & Expert+AMyGDA &         6394 &          106144 &              88.2 \\% &          78.9 \\% \\\\\n",
      "   & Expert &        12474 &          186624 &              85.8 \\% &          71.1 \\% \\\\\n",
      "\\bottomrule\n",
      "\\end{tabular}\n",
      "\\caption[Individual volunteers only agree with the Expert+AMyGDA reference dataset in 60-70\\% of drug images.]{\\label{table:S3} Individual volunteers only agree with the Expert+AMyGDA reference dataset in 60-70\\% of drug images. The exact and essential agreement between individual volunteers and the reference Expert+AMyGDA dataset improves with the length of incubation. The Expert dataset is shown for comparision. }\n",
      "\\end{center}\n",
      "\\end{table}\n",
      "\n"
     ]
    }
   ],
   "source": [
    "table=copy.deepcopy(RAW_SUMMARY)\n",
    "table=table[['READINGDAY','TRUTH_SET','N_MEASUREMENTS', 'N_CLASSIFICATIONS','ESSENTIAL_AGREEMENT','EXACT_AGREEMENT']]\n",
    "table.replace({'TRUTH_SET':{'TRUTH_SET_1':'Expert',\\\n",
    "                            'TRUTH_SET_2':'Expert+mirrored-box',\\\n",
    "                            'TRUTH_SET_3':'Expert+AMyGDA'}},inplace=True)\n",
    "table['TRUTH_SET']=pandas.Categorical(table['TRUTH_SET'],['Expert+AMyGDA','Expert','Expert+mirrored-box'])\n",
    "table=table.loc[table.TRUTH_SET!='Expert+mirrored-box']\n",
    "table.sort_values(by=['READINGDAY','TRUTH_SET'],inplace=True)\n",
    "table.set_index(['READINGDAY','TRUTH_SET'],inplace=True)\n",
    "table.index.names=(['Reading day','Reference dataset'])\n",
    "\n",
    "print(\"\\\\begin{table}\\n\\\\begin{center}\")\n",
    "print(table.to_latex(float_format='%.1f %%',\\\n",
    "                     column_format='c|crrrr',\\\n",
    "               escape=True,\\\n",
    "               index=True,\\\n",
    "               multirow=True,\\\n",
    "                     multicolumn=True,\\\n",
    "               header=['Measurements','Classifications','Essential agreement','Exact agreement']).rstrip())\n",
    "print(\"\\\\caption[Individual volunteers only agree with the Expert+AMyGDA reference dataset in 60-70\\% of drug images.]{\\\\label{table:S3} Individual volunteers only agree with the Expert+AMyGDA reference dataset in 60-70\\% of drug images. The exact and essential agreement between individual volunteers and the reference Expert+AMyGDA dataset improves with the length of incubation. The Expert dataset is shown for comparision. }\")\n",
    "print(\"\\\\end{center}\\n\\\\end{table}\\n\")\n",
    "\n",
    "#                header=['Reading day','Expert dataset','Measurements','Classifications','Essential agreement','Exact agreement']).rstrip())\n"
   ]
  },
  {
   "cell_type": "markdown",
   "metadata": {},
   "source": [
    "## Table S4 - Expert and AMyGDA agreement by dilution"
   ]
  },
  {
   "cell_type": "code",
   "execution_count": 38,
   "metadata": {},
   "outputs": [
    {
     "name": "stdout",
     "output_type": "stream",
     "text": [
      "\\begin{table}\n",
      "\\begin{center}\n",
      "\\begin{tabular}{r|r}\n",
      "\\toprule\n",
      "Dilution &        Agreement \\\\\n",
      "\\midrule\n",
      "      NR & 43.9 $\\pm$ 0.6 % \\\\\n",
      "       1 & 76.3 $\\pm$ 0.4 % \\\\\n",
      "       2 & 43.5 $\\pm$ 0.5 % \\\\\n",
      "       3 & 29.1 $\\pm$ 0.6 % \\\\\n",
      "       4 & 31.4 $\\pm$ 0.8 % \\\\\n",
      "       5 & 29.9 $\\pm$ 0.8 % \\\\\n",
      "       6 & 31.6 $\\pm$ 0.8 % \\\\\n",
      "       7 & 39.3 $\\pm$ 1.0 % \\\\\n",
      "       8 & 52.6 $\\pm$ 1.0 % \\\\\n",
      "       9 & 16.1 $\\pm$ 2.6 % \\\\\n",
      "\\bottomrule\n",
      "\\end{tabular}\n",
      "\\caption[The Expert and AMyGDA MICs are more likely to concur at smaller dilutions.]{\\label{table:S4} The Expert and AMyGDA MICs are more likely to concur at smaller dilutions.}\n",
      "\\end{center}\n",
      "\\end{table}\n",
      "\n"
     ]
    }
   ],
   "source": [
    "MOD_PHENOTYPES['IN_TRUTH_SET_3']=(MOD_PHENOTYPES.TRUTH_SET_3>=0)\n",
    "table=copy.deepcopy(MOD_PHENOTYPES[['VZ','IN_TRUTH_SET_3']].groupby('VZ').agg([numpy.mean,stats.sem]))\n",
    "table.columns=table.columns.droplevel()\n",
    "def return_formatted_values(row):\n",
    "    return(\"%.1f $\\pm$ %.1f %%\"% (100*row[('mean')],100*row[('sem')]))\n",
    "table[['Agreement']]=table.apply(return_formatted_values,axis=1)\n",
    "table.reset_index(inplace=True)\n",
    "table.rename(columns={'VZ':'Dilution'},inplace=True)\n",
    "table.Dilution=table.Dilution.astype(int)\n",
    "table.replace({'Dilution':{0:'NR'}},inplace=True)\n",
    "table=table[['Dilution','Agreement']]\n",
    "\n",
    "print(\"\\\\begin{table}\\n\\\\begin{center}\")\n",
    "print(table.to_latex(float_format='%.1f %',\\\n",
    "                     column_format='r|r',\\\n",
    "               escape=False,\\\n",
    "               index=False).rstrip())\n",
    "print(\"\\\\caption[The Expert and AMyGDA MICs are more likely to concur at smaller dilutions. The standard error of the mean is given.]{\\\\label{table:S4} The Expert and AMyGDA MICs are more likely to concur at smaller dilutions.}\")\n",
    "print(\"\\\\end{center}\\n\\\\end{table}\\n\")"
   ]
  },
  {
   "cell_type": "markdown",
   "metadata": {},
   "source": [
    "## Figure 3,4 - Reproducibility and Truth Sets\n",
    "\n",
    "Here we try different bootstraps against one another and the truth sets, calculating and storing the key metrics each time, but only plotting the overall heatmap.\n",
    "\n",
    "The below takes about 52 min to run on `lambda`"
   ]
  },
  {
   "cell_type": "code",
   "execution_count": 39,
   "metadata": {},
   "outputs": [],
   "source": [
    "CONSENSUS_DATASET.reset_index(inplace=True)"
   ]
  },
  {
   "cell_type": "code",
   "execution_count": 40,
   "metadata": {},
   "outputs": [
    {
     "name": "stdout",
     "output_type": "stream",
     "text": [
      "0.09 seconds\n"
     ]
    },
    {
     "data": {
      "text/html": [
       "<div>\n",
       "<style scoped>\n",
       "    .dataframe tbody tr th:only-of-type {\n",
       "        vertical-align: middle;\n",
       "    }\n",
       "\n",
       "    .dataframe tbody tr th {\n",
       "        vertical-align: top;\n",
       "    }\n",
       "\n",
       "    .dataframe thead th {\n",
       "        text-align: right;\n",
       "    }\n",
       "</style>\n",
       "<table border=\"1\" class=\"dataframe\">\n",
       "  <thead>\n",
       "    <tr style=\"text-align: right;\">\n",
       "      <th></th>\n",
       "      <th>TRUTH_SET</th>\n",
       "      <th>TYPE</th>\n",
       "      <th>READINGDAY</th>\n",
       "      <th>STDDEV</th>\n",
       "      <th>GROWTH</th>\n",
       "      <th>DRUG</th>\n",
       "      <th>N_CLASSIFICATIONS</th>\n",
       "      <th>BOOTSTRAP_RUN</th>\n",
       "      <th>METHOD</th>\n",
       "      <th>N</th>\n",
       "      <th>DIAGONAL</th>\n",
       "      <th>UPPER_DIAGONAL</th>\n",
       "      <th>LOWER_DIAGONAL</th>\n",
       "      <th>UPPER_TRIANGLE</th>\n",
       "      <th>LOWER_TRIANGLE</th>\n",
       "      <th>BOTH_NR</th>\n",
       "      <th>TRUTH_OK_METHOD_NR</th>\n",
       "      <th>TRUTH_NR_METHOD_OK</th>\n",
       "      <th>INNER_SQUARE</th>\n",
       "      <th>TRUTH_OK</th>\n",
       "      <th>PROP_READ</th>\n",
       "      <th>ESSENTIAL_AGREEMENT</th>\n",
       "      <th>EXACT_AGREEMENT</th>\n",
       "    </tr>\n",
       "  </thead>\n",
       "  <tbody>\n",
       "    <tr>\n",
       "      <th>0</th>\n",
       "      <td>TRUTH_SET_1</td>\n",
       "      <td>REPRODUCIBILITY</td>\n",
       "      <td>7</td>\n",
       "      <td>ALL</td>\n",
       "      <td>ALL</td>\n",
       "      <td>ALL</td>\n",
       "      <td>13</td>\n",
       "      <td>0</td>\n",
       "      <td>MEDIAN</td>\n",
       "      <td>6022</td>\n",
       "      <td>69.229492</td>\n",
       "      <td>3.470608</td>\n",
       "      <td>3.736300</td>\n",
       "      <td>2.158751</td>\n",
       "      <td>2.274992</td>\n",
       "      <td>11.740286</td>\n",
       "      <td>3.869146</td>\n",
       "      <td>3.520425</td>\n",
       "      <td>80.870143</td>\n",
       "      <td>84.739289</td>\n",
       "      <td>95.434058</td>\n",
       "      <td>94.517454</td>\n",
       "      <td>85.605749</td>\n",
       "    </tr>\n",
       "    <tr>\n",
       "      <th>1</th>\n",
       "      <td>TRUTH_SET_1</td>\n",
       "      <td>REPRODUCIBILITY</td>\n",
       "      <td>7</td>\n",
       "      <td>ALL</td>\n",
       "      <td>ALL</td>\n",
       "      <td>ALL</td>\n",
       "      <td>13</td>\n",
       "      <td>0</td>\n",
       "      <td>MEAN</td>\n",
       "      <td>6022</td>\n",
       "      <td>59.465294</td>\n",
       "      <td>9.349053</td>\n",
       "      <td>9.365659</td>\n",
       "      <td>1.262039</td>\n",
       "      <td>1.428097</td>\n",
       "      <td>11.740286</td>\n",
       "      <td>3.869146</td>\n",
       "      <td>3.520425</td>\n",
       "      <td>80.870143</td>\n",
       "      <td>84.739289</td>\n",
       "      <td>95.434058</td>\n",
       "      <td>96.673511</td>\n",
       "      <td>73.531828</td>\n",
       "    </tr>\n",
       "  </tbody>\n",
       "</table>\n",
       "</div>"
      ],
      "text/plain": [
       "     TRUTH_SET             TYPE  READINGDAY STDDEV GROWTH DRUG  \\\n",
       "0  TRUTH_SET_1  REPRODUCIBILITY           7    ALL    ALL  ALL   \n",
       "1  TRUTH_SET_1  REPRODUCIBILITY           7    ALL    ALL  ALL   \n",
       "\n",
       "   N_CLASSIFICATIONS  BOOTSTRAP_RUN  METHOD     N   DIAGONAL  UPPER_DIAGONAL  \\\n",
       "0                 13              0  MEDIAN  6022  69.229492        3.470608   \n",
       "1                 13              0    MEAN  6022  59.465294        9.349053   \n",
       "\n",
       "   LOWER_DIAGONAL  UPPER_TRIANGLE  LOWER_TRIANGLE    BOTH_NR  \\\n",
       "0        3.736300        2.158751        2.274992  11.740286   \n",
       "1        9.365659        1.262039        1.428097  11.740286   \n",
       "\n",
       "   TRUTH_OK_METHOD_NR  TRUTH_NR_METHOD_OK  INNER_SQUARE   TRUTH_OK  PROP_READ  \\\n",
       "0            3.869146            3.520425     80.870143  84.739289  95.434058   \n",
       "1            3.869146            3.520425     80.870143  84.739289  95.434058   \n",
       "\n",
       "   ESSENTIAL_AGREEMENT  EXACT_AGREEMENT  \n",
       "0            94.517454        85.605749  \n",
       "1            96.673511        73.531828  "
      ]
     },
     "execution_count": 40,
     "metadata": {},
     "output_type": "execute_result"
    }
   ],
   "source": [
    "calculate_consensus_summary=False\n",
    "\n",
    "total_bootstraps=20\n",
    "\n",
    "start=time.time()\n",
    "\n",
    "summary_grid={}\n",
    "\n",
    "zero_grid=numpy.zeros((10,10))\n",
    "\n",
    "if not calculate_consensus_summary:\n",
    "\n",
    "    CONSENSUS_SUMMARY=pandas.read_pickle('tables/CONSENSUS_SUMMARY.pkl.gz')\n",
    "    CONDENSED_SUMMARY=pandas.read_pickle('tables/CONDENSED_SUMMARY.pkl.gz')\n",
    "    \n",
    "else:\n",
    "    \n",
    "    for method in ['MEDIAN','MEAN','MODE']:\n",
    "        CONSENSUS_DATASET[method+\"CEIL\"]=CONSENSUS_DATASET[method].apply(numpy.floor).astype('category')\n",
    "\n",
    "    for truth_set in ['TRUTH_SET_1','TRUTH_SET_2','TRUTH_SET_3']:\n",
    "        CONSENSUS_DATASET[truth_set]=CONSENSUS_DATASET[truth_set].astype('category')\n",
    "    \n",
    "    n_bootstraps=len(CONSENSUS_DATASET.BOOTSTRAP_RUN.unique())\n",
    "\n",
    "    BASE_NUMBER=3\n",
    "\n",
    "    df=copy.deepcopy(CONSENSUS_DATASET.loc[   (CONSENSUS_DATASET.N_CLASSIFICATIONS==BASE_NUMBER) &\\\n",
    "                                (CONSENSUS_DATASET.STDDEV==0) ])\n",
    "\n",
    "    df.set_index(['PLATE','DRUG','READINGDAY','BOOTSTRAP_RUN'],inplace=True)\n",
    "    df[['HAS_ZERO_STDDEV']]=True\n",
    "    df=df[['HAS_ZERO_STDDEV']]\n",
    "\n",
    "    CONSENSUS_DATASET.set_index(['PLATE','DRUG','READINGDAY','BOOTSTRAP_RUN'],inplace=True)\n",
    "    CONSENSUS_DATASET=CONSENSUS_DATASET.join(df,how='left')\n",
    "    CONSENSUS_DATASET['HAS_ZERO_STDDEV'].fillna(False,inplace=True)\n",
    "    CONSENSUS_DATASET.reset_index(inplace=True)\n",
    "        \n",
    "    boot={}\n",
    "    samples={}\n",
    "    table=[]\n",
    "    condensed_table=[]\n",
    "    \n",
    "    for reading_day in tqdm(CONSENSUS_DATASET.READINGDAY.unique()):\n",
    "        \n",
    "        if reading_day==14:\n",
    "            growth_list=['ALL','HIGH','LOW','MEDIUM']\n",
    "        else:\n",
    "            growth_list=['ALL']\n",
    "\n",
    "        for n_classifications in tqdm(CONSENSUS_DATASET.N_CLASSIFICATIONS.unique()):\n",
    "            \n",
    "            for growth in growth_list:\n",
    "                \n",
    "                if growth=='ALL' and reading_day==14:\n",
    "                    drug_list=['ALL', 'AMI', 'BDQ', 'CFZ', 'DLM', 'EMB', 'ETH', 'INH', 'KAN', 'LEV', 'LZD', 'MXF', 'PAS', 'RFB', 'RIF']\n",
    "                    stddev_list = ['ALL','ZERO','NOT_ZERO']\n",
    "                else:\n",
    "                    drug_list=['ALL']\n",
    "                    stddev_list = ['ALL']\n",
    "                    \n",
    "                for stddev in stddev_list:\n",
    "                    \n",
    "                    for drug in drug_list:\n",
    "\n",
    "                        # setup an empty dataset which may be overwritten\n",
    "                        CONSENSUS_DATASET_SUBSET=pandas.DataFrame([])\n",
    "                        \n",
    "                        # subset down the consensus\n",
    "                        if drug=='ALL':\n",
    "\n",
    "                            if growth=='ALL':\n",
    "\n",
    "                                if stddev=='ALL':\n",
    "\n",
    "                                    CONSENSUS_DATASET_SUBSET=CONSENSUS_DATASET.loc[(CONSENSUS_DATASET.READINGDAY==reading_day) &\\\n",
    "                                                                                   (CONSENSUS_DATASET.N_CLASSIFICATIONS==n_classifications) &\\\n",
    "                                                                                   (CONSENSUS_DATASET.DRUG!='PAS')]\n",
    "                                elif stddev=='ZERO':\n",
    "\n",
    "                                    CONSENSUS_DATASET_SUBSET=CONSENSUS_DATASET.loc[(CONSENSUS_DATASET.READINGDAY==reading_day) &\\\n",
    "                                                                                   (CONSENSUS_DATASET.N_CLASSIFICATIONS==n_classifications) &\\\n",
    "                                                                                   (CONSENSUS_DATASET.DRUG!='PAS') &\\\n",
    "                                                                                   (CONSENSUS_DATASET.HAS_ZERO_STDDEV)]\n",
    "                                elif stddev=='NOT_ZERO':\n",
    "\n",
    "                                    CONSENSUS_DATASET_SUBSET=CONSENSUS_DATASET.loc[(CONSENSUS_DATASET.READINGDAY==reading_day) &\\\n",
    "                                                                                   (CONSENSUS_DATASET.N_CLASSIFICATIONS==n_classifications) &\\\n",
    "                                                                                   (CONSENSUS_DATASET.DRUG!='PAS') &\\\n",
    "                                                                                   (~CONSENSUS_DATASET.HAS_ZERO_STDDEV)]\n",
    "                                else:\n",
    "                                    raise ValueError('value of stddev not recognised!',stddev)\n",
    "\n",
    "                                    \n",
    "                            elif growth in ['LOW','MEDIUM','HIGH']:\n",
    "                                \n",
    "                                if stddev=='ALL':\n",
    "\n",
    "                                    CONSENSUS_DATASET_SUBSET=CONSENSUS_DATASET.loc[(CONSENSUS_DATASET.READINGDAY==reading_day) &\\\n",
    "                                                                                    (CONSENSUS_DATASET.N_CLASSIFICATIONS==n_classifications) &\\\n",
    "                                                                                    (CONSENSUS_DATASET.DRUG!='PAS') &\\\n",
    "                                                                                    (CONSENSUS_DATASET.GROWTH==growth)]                                        \n",
    "                                else:\n",
    "                                    continue\n",
    "\n",
    "\n",
    "                            CONSENSUS_DATASET_SUBSET.set_index(['PLATE','DRUG'],inplace=True)\n",
    "\n",
    "                        else:                    \n",
    "\n",
    "                            if growth=='ALL':\n",
    "                                \n",
    "                                if stddev=='ALL':\n",
    "\n",
    "                                    CONSENSUS_DATASET_SUBSET=CONSENSUS_DATASET.loc[(CONSENSUS_DATASET.READINGDAY==reading_day) &\\\n",
    "                                                                                   (CONSENSUS_DATASET.N_CLASSIFICATIONS==n_classifications) &\\\n",
    "                                                                                   (CONSENSUS_DATASET.DRUG==drug)]\n",
    "                                else:\n",
    "                                    \n",
    "                                    continue\n",
    "                                    \n",
    "                            else:\n",
    "                                \n",
    "                                continue\n",
    "\n",
    "\n",
    "                            CONSENSUS_DATASET_SUBSET.set_index('PLATE',inplace=True)\n",
    "\n",
    "                        if CONSENSUS_DATASET_SUBSET.empty:\n",
    "                            continue\n",
    "\n",
    "                        # loop over the three methods\n",
    "                        for method in ['MEDIAN','MEAN','MODE']:\n",
    "\n",
    "                            # intialise the heatmap array\n",
    "                            summary_grid[method]=numpy.zeros((10,10))\n",
    "\n",
    "                        for truth_set in ['TRUTH_SET_1','TRUTH_SET_2','TRUTH_SET_3']:\n",
    "\n",
    "                            # tackle reproducibility first by creating pairs of bootstraps\n",
    "                            for n_boot in range(total_bootstraps):\n",
    "\n",
    "                                # choose two bootstrap runs without replacement\n",
    "                                boot=random.sample(list(CONSENSUS_DATASET_SUBSET.BOOTSTRAP_RUN.unique()),2)\n",
    "\n",
    "                                # use these to pick out the two sets to compare\n",
    "                                for i in [0,1]:\n",
    "\n",
    "                                    samples[i]=copy.deepcopy(CONSENSUS_DATASET_SUBSET.loc[(CONSENSUS_DATASET_SUBSET.BOOTSTRAP_RUN==boot[i]) &\\\n",
    "                                                                                          (CONSENSUS_DATASET_SUBSET[truth_set]!=0)])\n",
    "\n",
    "                                    for method in ['MEDIAN','MEAN','MODE']:\n",
    "\n",
    "                                        # rename the columns so we can join\n",
    "                                        samples[i].rename(columns={method+\"CEIL\":method+str(i)},inplace=True)\n",
    "\n",
    "                                if samples[0].empty or samples[1].empty:\n",
    "                                    continue\n",
    "\n",
    "                                # join back \n",
    "                                df=samples[0][['MEAN0','MEDIAN0','MODE0']].join(samples[1][['MEAN1','MEDIAN1','MODE1']])\n",
    "\n",
    "                                for method in ['MEDIAN','MEAN','MODE']:\n",
    "\n",
    "                                    # form a cross-tabulation\n",
    "                                    grid=pandas.crosstab(df[method+\"0\"],df[method+\"1\"],normalize=False,dropna=False)\n",
    "\n",
    "                                    if grid.empty:\n",
    "                                        continue\n",
    "\n",
    "                                    # start the table row\n",
    "                                    row=[truth_set,'REPRODUCIBILITY',reading_day,stddev,growth,drug,n_classifications,n_boot,method]\n",
    "\n",
    "                                    grid=numpy.array(grid)                                   \n",
    "                                    assert grid.shape==(10,10)\n",
    "\n",
    "                                    # update the row and add to the table\n",
    "                                    row+=calculate_grid_metrics(grid)                        \n",
    "                                    table.append(row)\n",
    "\n",
    "                                    # update the overall crosstab\n",
    "                                    summary_grid[method]+=grid\n",
    "\n",
    "                            for method in ['MEDIAN','MEAN','MODE']:\n",
    "                                summary_grid[method]/=int(n_bootstraps/2)\n",
    "                                \n",
    "                                row=[truth_set,'REPRODUCIBILITY',reading_day,stddev,growth,drug,n_classifications,n_boot,method]\n",
    "                                row+=calculate_grid_metrics(summary_grid[method])                        \n",
    "                                condensed_table.append(row)\n",
    "                                \n",
    "                                if numpy.sum(summary_grid[method])==0:\n",
    "                                    continue\n",
    "                                summary_grid[method]=summary_grid[method]/numpy.sum(summary_grid[method])\n",
    "\n",
    "                                label=(drug.lower() if stddev=='ALL' else drug.lower()+'-'+stddev.lower())\n",
    "                                                                        \n",
    "                                plot_heatmap(summary_grid[method],\\\n",
    "                                                 reading_day,\\\n",
    "                                                 'reproducibility',\\\n",
    "                                                 truth_set.lower(),\\\n",
    "                                                 n_classifications,\n",
    "                                                 growth.lower(),\\\n",
    "                                                 method.lower(),\\\n",
    "                                                 label,\\\n",
    "                                                 exclude_nr=True,vmax=40)            \n",
    "\n",
    "                            for method in ['MEDIAN','MEAN','MODE']:\n",
    "                                summary_grid[method]=numpy.zeros((10,10))\n",
    "\n",
    "                            for n_boot in range(total_bootstraps):\n",
    "                                \n",
    "                                boot=random.sample(list(CONSENSUS_DATASET_SUBSET.BOOTSTRAP_RUN.unique()),1)\n",
    "\n",
    "                                # pick out the set to compare\n",
    "                                sample_set=copy.deepcopy(CONSENSUS_DATASET_SUBSET.loc[CONSENSUS_DATASET_SUBSET.BOOTSTRAP_RUN==n_boot])\n",
    "\n",
    "                                for method in ['MEDIAN','MEAN','MODE']:\n",
    "\n",
    "                                    # form a cross-tabulation\n",
    "                                    grid=pandas.crosstab(sample_set[method+\"CEIL\"],sample_set[truth_set],normalize=False,dropna=False)\n",
    "\n",
    "                                    if grid.empty:\n",
    "                                        continue\n",
    "\n",
    "                                    # start the table row\n",
    "                                    row=[truth_set,'ACCURACY',reading_day,stddev,growth,drug,n_classifications,n_boot,method]\n",
    "\n",
    "                                    grid=numpy.array(grid)                                    \n",
    "                                    assert grid.shape==(10,10)\n",
    "\n",
    "                                    # update the row and add to the table\n",
    "                                    row+=calculate_grid_metrics(grid)\n",
    "                                    table.append(row)\n",
    "\n",
    "                                    # update the overall crosstab\n",
    "                                    summary_grid[method]+=grid\n",
    "\n",
    "                            for method in ['MEDIAN','MEAN','MODE']:\n",
    "                                summary_grid[method]/=n_bootstraps  \n",
    "                                \n",
    "                                row=[truth_set,'ACCURACY',reading_day,stddev,growth,drug,n_classifications,n_boot,method]\n",
    "                                row+=calculate_grid_metrics(summary_grid[method])                        \n",
    "                                condensed_table.append(row)                                \n",
    "                                \n",
    "                                if numpy.sum(summary_grid[method])==0:\n",
    "                                    print(row)\n",
    "                                    continue\n",
    "                                summary_grid[method]=summary_grid[method]/numpy.sum(summary_grid[method])\n",
    "\n",
    "                                label=(drug.lower() if stddev=='ALL' else drug.lower()+'-'+stddev.lower())\n",
    "                                \n",
    "                                plot_heatmap(summary_grid[method],\\\n",
    "                                             reading_day,\\\n",
    "                                             'accuracy',\\\n",
    "                                             truth_set.lower(),\\\n",
    "                                             n_classifications,\n",
    "                                             growth.lower(),\\\n",
    "                                             method.lower(),\\\n",
    "                                             label,\n",
    "                                             exclude_nr=True,vmax=40)            \n",
    "\n",
    "\n",
    "    CONSENSUS_SUMMARY=pandas.DataFrame(table,columns=['TRUTH_SET','TYPE','READINGDAY','STDDEV','GROWTH','DRUG','N_CLASSIFICATIONS','BOOTSTRAP_RUN','METHOD',\\\n",
    "                                            'N','DIAGONAL','UPPER_DIAGONAL','LOWER_DIAGONAL','UPPER_TRIANGLE',\\\n",
    "                                            'LOWER_TRIANGLE','BOTH_NR','TRUTH_OK_METHOD_NR',\\\n",
    "                                            'TRUTH_NR_METHOD_OK','INNER_SQUARE'])\n",
    "\n",
    "    CONSENSUS_SUMMARY['TRUTH_OK']=CONSENSUS_SUMMARY['TRUTH_OK_METHOD_NR']+CONSENSUS_SUMMARY['INNER_SQUARE']\n",
    "    CONSENSUS_SUMMARY['PROP_READ']=100*CONSENSUS_SUMMARY['INNER_SQUARE']/CONSENSUS_SUMMARY['TRUTH_OK']\n",
    "    \n",
    "    CONSENSUS_SUMMARY['ESSENTIAL_AGREEMENT']=100*(CONSENSUS_SUMMARY['DIAGONAL']+\\\n",
    "                                                  CONSENSUS_SUMMARY['UPPER_DIAGONAL']+\\\n",
    "                                                  CONSENSUS_SUMMARY['LOWER_DIAGONAL'])/CONSENSUS_SUMMARY['INNER_SQUARE']\n",
    "\n",
    "    CONSENSUS_SUMMARY['EXACT_AGREEMENT']=100*(CONSENSUS_SUMMARY['DIAGONAL']/CONSENSUS_SUMMARY['INNER_SQUARE'])\n",
    "\n",
    "    CONSENSUS_SUMMARY.to_pickle('tables/CONSENSUS_SUMMARY.pkl.gz')\n",
    "    CONSENSUS_SUMMARY.to_csv('tables/CONSENSUS_SUMMARY.csv.gz')\n",
    "\n",
    "    \n",
    "    CONDENSED_SUMMARY=pandas.DataFrame(condensed_table,columns=['TRUTH_SET','TYPE','READINGDAY','STDDEV','GROWTH','DRUG','N_CLASSIFICATIONS','BOOTSTRAP_RUN','METHOD',\\\n",
    "                                            'N','DIAGONAL','UPPER_DIAGONAL','LOWER_DIAGONAL','UPPER_TRIANGLE',\\\n",
    "                                            'LOWER_TRIANGLE','BOTH_NR','TRUTH_OK_METHOD_NR',\\\n",
    "                                            'TRUTH_NR_METHOD_OK','INNER_SQUARE'])\n",
    "\n",
    "    CONDENSED_SUMMARY['TRUTH_OK']=CONDENSED_SUMMARY['TRUTH_OK_METHOD_NR']+CONDENSED_SUMMARY['INNER_SQUARE']\n",
    "    CONDENSED_SUMMARY['PROP_READ']=100*CONDENSED_SUMMARY['INNER_SQUARE']/CONDENSED_SUMMARY['TRUTH_OK']\n",
    "    \n",
    "    CONDENSED_SUMMARY['ESSENTIAL_AGREEMENT']=100*(CONDENSED_SUMMARY['DIAGONAL']+\\\n",
    "                                                  CONDENSED_SUMMARY['UPPER_DIAGONAL']+\\\n",
    "                                                  CONDENSED_SUMMARY['LOWER_DIAGONAL'])/CONDENSED_SUMMARY['INNER_SQUARE']\n",
    "\n",
    "    CONDENSED_SUMMARY['EXACT_AGREEMENT']=100*(CONDENSED_SUMMARY['DIAGONAL']/CONDENSED_SUMMARY['INNER_SQUARE'])\n",
    "\n",
    "    CONDENSED_SUMMARY.to_pickle('tables/CONDENSED_SUMMARY.pkl.gz')\n",
    "    CONDENSED_SUMMARY.to_csv('tables/CONDENSED_SUMMARY.csv.gz')\n",
    "            \n",
    "print(\"%.2f seconds\" % (time.time()-start))    \n",
    "    \n",
    "CONSENSUS_SUMMARY[:2]    "
   ]
  },
  {
   "cell_type": "code",
   "execution_count": 41,
   "metadata": {},
   "outputs": [
    {
     "data": {
      "text/html": [
       "<div>\n",
       "<style scoped>\n",
       "    .dataframe tbody tr th:only-of-type {\n",
       "        vertical-align: middle;\n",
       "    }\n",
       "\n",
       "    .dataframe tbody tr th {\n",
       "        vertical-align: top;\n",
       "    }\n",
       "\n",
       "    .dataframe thead th {\n",
       "        text-align: right;\n",
       "    }\n",
       "</style>\n",
       "<table border=\"1\" class=\"dataframe\">\n",
       "  <thead>\n",
       "    <tr style=\"text-align: right;\">\n",
       "      <th></th>\n",
       "      <th>TRUTH_SET</th>\n",
       "      <th>TYPE</th>\n",
       "      <th>READINGDAY</th>\n",
       "      <th>STDDEV</th>\n",
       "      <th>GROWTH</th>\n",
       "      <th>DRUG</th>\n",
       "      <th>N_CLASSIFICATIONS</th>\n",
       "      <th>BOOTSTRAP_RUN</th>\n",
       "      <th>METHOD</th>\n",
       "      <th>N</th>\n",
       "      <th>DIAGONAL</th>\n",
       "      <th>UPPER_DIAGONAL</th>\n",
       "      <th>LOWER_DIAGONAL</th>\n",
       "      <th>UPPER_TRIANGLE</th>\n",
       "      <th>LOWER_TRIANGLE</th>\n",
       "      <th>BOTH_NR</th>\n",
       "      <th>TRUTH_OK_METHOD_NR</th>\n",
       "      <th>TRUTH_NR_METHOD_OK</th>\n",
       "      <th>INNER_SQUARE</th>\n",
       "      <th>TRUTH_OK</th>\n",
       "      <th>PROP_READ</th>\n",
       "      <th>ESSENTIAL_AGREEMENT</th>\n",
       "      <th>EXACT_AGREEMENT</th>\n",
       "    </tr>\n",
       "  </thead>\n",
       "  <tbody>\n",
       "    <tr>\n",
       "      <th>0</th>\n",
       "      <td>TRUTH_SET_1</td>\n",
       "      <td>REPRODUCIBILITY</td>\n",
       "      <td>7</td>\n",
       "      <td>ALL</td>\n",
       "      <td>ALL</td>\n",
       "      <td>ALL</td>\n",
       "      <td>13</td>\n",
       "      <td>19</td>\n",
       "      <td>MEDIAN</td>\n",
       "      <td>12044.0</td>\n",
       "      <td>68.933909</td>\n",
       "      <td>3.698937</td>\n",
       "      <td>3.776984</td>\n",
       "      <td>2.289107</td>\n",
       "      <td>2.266689</td>\n",
       "      <td>11.487878</td>\n",
       "      <td>3.811026</td>\n",
       "      <td>3.73547</td>\n",
       "      <td>80.965626</td>\n",
       "      <td>84.776652</td>\n",
       "      <td>95.504628</td>\n",
       "      <td>94.373173</td>\n",
       "      <td>85.139722</td>\n",
       "    </tr>\n",
       "    <tr>\n",
       "      <th>1</th>\n",
       "      <td>TRUTH_SET_1</td>\n",
       "      <td>REPRODUCIBILITY</td>\n",
       "      <td>7</td>\n",
       "      <td>ALL</td>\n",
       "      <td>ALL</td>\n",
       "      <td>ALL</td>\n",
       "      <td>13</td>\n",
       "      <td>19</td>\n",
       "      <td>MEAN</td>\n",
       "      <td>12044.0</td>\n",
       "      <td>59.432082</td>\n",
       "      <td>9.445367</td>\n",
       "      <td>9.421289</td>\n",
       "      <td>1.294420</td>\n",
       "      <td>1.372468</td>\n",
       "      <td>11.487878</td>\n",
       "      <td>3.811026</td>\n",
       "      <td>3.73547</td>\n",
       "      <td>80.965626</td>\n",
       "      <td>84.776652</td>\n",
       "      <td>95.504628</td>\n",
       "      <td>96.706148</td>\n",
       "      <td>73.404092</td>\n",
       "    </tr>\n",
       "  </tbody>\n",
       "</table>\n",
       "</div>"
      ],
      "text/plain": [
       "     TRUTH_SET             TYPE  READINGDAY STDDEV GROWTH DRUG  \\\n",
       "0  TRUTH_SET_1  REPRODUCIBILITY           7    ALL    ALL  ALL   \n",
       "1  TRUTH_SET_1  REPRODUCIBILITY           7    ALL    ALL  ALL   \n",
       "\n",
       "   N_CLASSIFICATIONS  BOOTSTRAP_RUN  METHOD        N   DIAGONAL  \\\n",
       "0                 13             19  MEDIAN  12044.0  68.933909   \n",
       "1                 13             19    MEAN  12044.0  59.432082   \n",
       "\n",
       "   UPPER_DIAGONAL  LOWER_DIAGONAL  UPPER_TRIANGLE  LOWER_TRIANGLE    BOTH_NR  \\\n",
       "0        3.698937        3.776984        2.289107        2.266689  11.487878   \n",
       "1        9.445367        9.421289        1.294420        1.372468  11.487878   \n",
       "\n",
       "   TRUTH_OK_METHOD_NR  TRUTH_NR_METHOD_OK  INNER_SQUARE   TRUTH_OK  PROP_READ  \\\n",
       "0            3.811026             3.73547     80.965626  84.776652  95.504628   \n",
       "1            3.811026             3.73547     80.965626  84.776652  95.504628   \n",
       "\n",
       "   ESSENTIAL_AGREEMENT  EXACT_AGREEMENT  \n",
       "0            94.373173        85.139722  \n",
       "1            96.706148        73.404092  "
      ]
     },
     "execution_count": 41,
     "metadata": {},
     "output_type": "execute_result"
    }
   ],
   "source": [
    "CONDENSED_SUMMARY[:2]"
   ]
  },
  {
   "cell_type": "markdown",
   "metadata": {},
   "source": [
    "# Figure 4: simple barcharts"
   ]
  },
  {
   "cell_type": "code",
   "execution_count": 44,
   "metadata": {},
   "outputs": [
    {
     "data": {
      "image/png": "[encoded data removed]",
      "text/plain": [
       "<Figure size 432x252 with 1 Axes>"
      ]
     },
     "metadata": {
      "needs_background": "light"
     },
     "output_type": "display_data"
    },
    {
     "data": {
      "image/png": "[encoded data removed]",
      "text/plain": [
       "<Figure size 432x252 with 1 Axes>"
      ]
     },
     "metadata": {
      "needs_background": "light"
     },
     "output_type": "display_data"
    }
   ],
   "source": [
    "def plot_barchart(readingday,datatype,dataset,n_classifications):\n",
    "    df=copy.deepcopy(CONSENSUS_SUMMARY.loc[(CONSENSUS_SUMMARY.TYPE==datatype) &\\\n",
    "                                       (CONSENSUS_SUMMARY.TRUTH_SET==dataset) &\\\n",
    "                                       (CONSENSUS_SUMMARY.STDDEV=='ALL') &\\\n",
    "                                         (CONSENSUS_SUMMARY.GROWTH=='ALL') &\\\n",
    "                                         (CONSENSUS_SUMMARY.DRUG=='ALL') &\\\n",
    "                                       (CONSENSUS_SUMMARY.READINGDAY==readingday) &\\\n",
    "                                        (CONSENSUS_SUMMARY.N_CLASSIFICATIONS==n_classifications)] )\n",
    "\n",
    "    df.rename(columns={'ESSENTIAL_AGREEMENT':'Essential agreement',\\\n",
    "                       'EXACT_AGREEMENT':'Exact agreement',\\\n",
    "                       'METHOD':'Method'},inplace=True)\n",
    "    df['Method']=df['Method'].str.lower()\n",
    "    df=df[['Method','Exact agreement','Essential agreement']].groupby('Method').mean()\n",
    "\n",
    "    fig,axes=plt.subplots(1,1,figsize=(6,3.5))\n",
    "    x=numpy.arange(3)\n",
    "    width=0.25\n",
    "    rects1=axes.bar(x-width/2,df['Exact agreement'],color=bashthebug_colours['green'],width=width)\n",
    "    rects2=axes.bar(x+width/2,df['Essential agreement'],color=bashthebug_colours['red'],width=width)\n",
    "    axes.set_xticks(x)\n",
    "    axes.set_xticklabels(['Mean','Median','Mode'])\n",
    "    x_range=axes.get_xlim()\n",
    "    if datatype=='REPRODUCIBILITY':\n",
    "        axes.plot(x_range,(95,95),'k--',lw=1)\n",
    "    else:\n",
    "        axes.plot(x_range,(90,90),'k--',lw=1)\n",
    "    axes.set_xlim(x_range)\n",
    "    axes.set_ylim((0,100))\n",
    "    axes.spines['right'].set_visible(False)\n",
    "    axes.spines['top'].set_visible(False)\n",
    "\n",
    "    def autolabel(rects):\n",
    "        \"\"\"\n",
    "        Attach a text label above each bar displaying its height\n",
    "        \"\"\"\n",
    "        for rect in rects:\n",
    "            height = rect.get_height()\n",
    "            axes.text(rect.get_x() + rect.get_width()/2., 1.01*height,\n",
    "                    '%.1f' % height,\n",
    "                    ha='center', va='bottom')\n",
    "\n",
    "    autolabel(rects1)\n",
    "    autolabel(rects2)\n",
    "\n",
    "    fig.savefig('pdf/'+str(readingday)+'/'+datatype.lower()+'/'+dataset.lower()+'/'+str(n_classifications)+'/bar-'+str(readingday)+'-'+datatype.lower()+'-'+dataset.lower()+'-'+str(n_classifications)+'.pdf')\n",
    "    \n",
    "    if dataset=='TRUTH_SET_3' and n_classifications==17:\n",
    "        pass\n",
    "    else:\n",
    "        plt.close()\n",
    "    \n",
    "plot_barchart(14,'REPRODUCIBILITY','TRUTH_SET_3',17)\n",
    "plot_barchart(14,'REPRODUCIBILITY','TRUTH_SET_1',17)\n",
    "plot_barchart(14,'REPRODUCIBILITY','TRUTH_SET_3',5)\n",
    "plot_barchart(14,'REPRODUCIBILITY','TRUTH_SET_3',11)\n",
    "\n",
    "plot_barchart(14,'ACCURACY','TRUTH_SET_3',17)\n",
    "plot_barchart(14,'ACCURACY','TRUTH_SET_1',17)"
   ]
  },
  {
   "cell_type": "code",
   "execution_count": 45,
   "metadata": {},
   "outputs": [
    {
     "data": {
      "image/png": "[encoded data removed]",
      "text/plain": [
       "<Figure size 1152x288 with 1 Axes>"
      ]
     },
     "metadata": {
      "needs_background": "light"
     },
     "output_type": "display_data"
    },
    {
     "data": {
      "image/png": "[encoded data removed]",
      "text/plain": [
       "<Figure size 1152x288 with 1 Axes>"
      ]
     },
     "metadata": {
      "needs_background": "light"
     },
     "output_type": "display_data"
    }
   ],
   "source": [
    "def plot_barchart_drugs(readingday,datatype,dataset,n_classifications,method):\n",
    "\n",
    "    drugs=list(CONSENSUS_SUMMARY.DRUG.unique())\n",
    "    if 'ALL' in drugs:\n",
    "        drugs.remove('ALL')\n",
    "    if 'PAS' in drugs:\n",
    "        drugs.remove('PAS')    \n",
    "    \n",
    "    df=copy.deepcopy(CONSENSUS_SUMMARY.loc[(CONSENSUS_SUMMARY.TYPE==datatype) &\\\n",
    "                                           (CONSENSUS_SUMMARY.TRUTH_SET==dataset) &\\\n",
    "                                           (CONSENSUS_SUMMARY.STDDEV=='ALL') &\\\n",
    "                                           (CONSENSUS_SUMMARY.METHOD==method) &\\\n",
    "                                            (CONSENSUS_SUMMARY.GROWTH=='ALL') &\\\n",
    "                                            (CONSENSUS_SUMMARY.DRUG.isin(drugs)) &\\\n",
    "                                            (CONSENSUS_SUMMARY.READINGDAY==readingday) &\\\n",
    "                                            (CONSENSUS_SUMMARY.N_CLASSIFICATIONS==n_classifications)] )\n",
    "    df.rename(columns={'ESSENTIAL_AGREEMENT':'Essential agreement',\\\n",
    "                       'EXACT_AGREEMENT':'Exact agreement',\\\n",
    "                       'DRUG':'Drug'},inplace=True)\n",
    "    df=df[['Drug','Exact agreement','Essential agreement']].groupby('Drug').mean()\n",
    "\n",
    "    fig,axes=plt.subplots(1,1,figsize=(16,4))\n",
    "    x=numpy.arange(len(drugs))\n",
    "    width=0.35\n",
    "    rects1=axes.bar(x-width/2,df['Exact agreement'],color=bashthebug_colours['green'],width=width)\n",
    "    rects2=axes.bar(x+width/2,df['Essential agreement'],color=bashthebug_colours['red'],width=width)\n",
    "    axes.set_xticks(x)\n",
    "    axes.set_xticklabels(drugs)\n",
    "    x_range=axes.get_xlim()\n",
    "    if datatype=='REPRODUCIBILITY':\n",
    "        axes.plot(x_range,(95,95),'k--',lw=1)\n",
    "    else:\n",
    "        axes.plot(x_range,(90,90),'k--',lw=1)\n",
    "    axes.set_xlim(x_range)\n",
    "    axes.set_ylim((0,100))\n",
    "    axes.spines['right'].set_visible(False)\n",
    "    axes.spines['top'].set_visible(False)\n",
    "\n",
    "    def autolabel(rects,color):\n",
    "        \"\"\"\n",
    "        Attach a text label above each bar displaying its height\n",
    "        \"\"\"\n",
    "        for rect in rects:\n",
    "            height = rect.get_height()\n",
    "            axes.text(rect.get_x() + rect.get_width()/2., 1.01*height,\n",
    "                    '%.1f' % height,\n",
    "                    ha='center', va='bottom',color=color)\n",
    "\n",
    "    autolabel(rects1,bashthebug_colours['green'])\n",
    "    autolabel(rects2,bashthebug_colours['red'])\n",
    "\n",
    "    fig.savefig('pdf/'+str(readingday)+'/'+datatype.lower()+'/'+dataset.lower()+'/'+str(n_classifications)+'/bar-'+str(readingday)+'-'+datatype.lower()+'-'+dataset.lower()+'-'+str(n_classifications)+'-'+method.lower()+'-drugs.pdf')\n",
    "    \n",
    "    if dataset=='TRUTH_SET_3' and n_classifications==17 and method=='MEDIAN':\n",
    "        pass\n",
    "    else:\n",
    "        plt.close()\n",
    "\n",
    "plot_barchart_drugs(14,'ACCURACY','TRUTH_SET_3',17,'MEDIAN')\n",
    "plot_barchart_drugs(14,'REPRODUCIBILITY','TRUTH_SET_3',17,'MEDIAN')\n",
    "\n",
    "plot_barchart_drugs(14,'ACCURACY','TRUTH_SET_3',17,'MEAN')\n",
    "plot_barchart_drugs(14,'REPRODUCIBILITY','TRUTH_SET_3',17,'MEAN')\n",
    "\n",
    "plot_barchart_drugs(14,'ACCURACY','TRUTH_SET_3',17,'MODE')\n",
    "plot_barchart_drugs(14,'REPRODUCIBILITY','TRUTH_SET_3',17,'MODE')"
   ]
  },
  {
   "cell_type": "markdown",
   "metadata": {},
   "source": [
    "## Table S5: reproducibility"
   ]
  },
  {
   "cell_type": "code",
   "execution_count": 46,
   "metadata": {},
   "outputs": [
    {
     "name": "stdout",
     "output_type": "stream",
     "text": [
      "\\begin{table}\n",
      "\\begin{center}\n",
      "\\begin{tabular}{rr|p{1.8cm}|p{1.6cm}p{1.6cm}p{1.6cm}|p{1.6cm}p{1.6cm}p{1.6cm}}\n",
      "\\toprule\n",
      "   &    &       Prop. with & \\multicolumn{3}{c}{Exact Agreement (\\%)} & \\multicolumn{3}{c}{Essential Agreement (\\%)} \\\\\n",
      "   &    &         MIC (\\%) &                 Mean &           Median &             Mode &                     Mean &           Median &             Mode \\\\\n",
      "Reading day & $n$ &                  &                      &                  &                  &                          &                  &                  \\\\\n",
      "\\midrule\n",
      "\\multirow{9}{*}{7} & 1  &  62.6 $\\pm$ 0.1  &      68.6 $\\pm$ 0.1  &  68.6 $\\pm$ 0.1  &  68.6 $\\pm$ 0.1  &          82.6 $\\pm$ 0.1  &  82.6 $\\pm$ 0.1  &  82.6 $\\pm$ 0.1  \\\\\n",
      "   & 3  &  69.3 $\\pm$ 0.1  &      61.7 $\\pm$ 0.1  &  71.6 $\\pm$ 0.1  &  75.2 $\\pm$ 0.1  &          84.3 $\\pm$ 0.1  &  86.0 $\\pm$ 0.1  &  86.9 $\\pm$ 0.1  \\\\\n",
      "   & 5  &  71.8 $\\pm$ 0.1  &      63.3 $\\pm$ 0.1  &  76.9 $\\pm$ 0.1  &  79.4 $\\pm$ 0.1  &          89.5 $\\pm$ 0.1  &  89.5 $\\pm$ 0.1  &  89.1 $\\pm$ 0.1  \\\\\n",
      "   & 7  &  73.3 $\\pm$ 0.1  &      65.5 $\\pm$ 0.1  &  79.2 $\\pm$ 0.1  &  82.1 $\\pm$ 0.1  &          92.5 $\\pm$ 0.1  &  91.0 $\\pm$ 0.1  &  90.8 $\\pm$ 0.1  \\\\\n",
      "   & 9  &  74.4 $\\pm$ 0.1  &      67.7 $\\pm$ 0.1  &  81.5 $\\pm$ 0.1  &  84.1 $\\pm$ 0.1  &          94.0 $\\pm$ 0.1  &  92.2 $\\pm$ 0.0  &  91.7 $\\pm$ 0.1  \\\\\n",
      "   & 11 &  75.2 $\\pm$ 0.1  &      69.8 $\\pm$ 0.1  &  82.8 $\\pm$ 0.1  &  85.4 $\\pm$ 0.1  &          95.2 $\\pm$ 0.0  &  93.0 $\\pm$ 0.1  &  92.6 $\\pm$ 0.1  \\\\\n",
      "   & 13 &  75.8 $\\pm$ 0.0  &      71.6 $\\pm$ 0.1  &  84.2 $\\pm$ 0.1  &  86.7 $\\pm$ 0.1  &          96.1 $\\pm$ 0.1  &  93.6 $\\pm$ 0.0  &  93.2 $\\pm$ 0.0  \\\\\n",
      "   & 15 &  76.2 $\\pm$ 0.0  &      72.6 $\\pm$ 0.1  &  85.1 $\\pm$ 0.1  &  87.8 $\\pm$ 0.1  &          96.7 $\\pm$ 0.1  &  94.2 $\\pm$ 0.0  &  93.7 $\\pm$ 0.1  \\\\\n",
      "   & 17 &  76.4 $\\pm$ 0.1  &      73.6 $\\pm$ 0.1  &  85.4 $\\pm$ 0.1  &  87.9 $\\pm$ 0.1  &          97.2 $\\pm$ 0.0  &  94.3 $\\pm$ 0.0  &  93.8 $\\pm$ 0.1  \\\\\n",
      "\\cline{1-9}\n",
      "\\multirow{9}{*}{10} & 1  &  75.5 $\\pm$ 0.1  &      68.7 $\\pm$ 0.1  &  68.7 $\\pm$ 0.1  &  68.7 $\\pm$ 0.1  &          82.9 $\\pm$ 0.1  &  82.9 $\\pm$ 0.1  &  82.9 $\\pm$ 0.1  \\\\\n",
      "   & 3  &  82.1 $\\pm$ 0.1  &      62.5 $\\pm$ 0.1  &  72.1 $\\pm$ 0.1  &  75.8 $\\pm$ 0.1  &          84.9 $\\pm$ 0.1  &  85.9 $\\pm$ 0.1  &  87.4 $\\pm$ 0.1  \\\\\n",
      "   & 5  &  85.3 $\\pm$ 0.0  &      63.7 $\\pm$ 0.1  &  77.3 $\\pm$ 0.1  &  79.8 $\\pm$ 0.1  &          89.9 $\\pm$ 0.1  &  89.4 $\\pm$ 0.1  &  89.6 $\\pm$ 0.1  \\\\\n",
      "   & 7  &  86.6 $\\pm$ 0.1  &      66.1 $\\pm$ 0.1  &  79.4 $\\pm$ 0.1  &  82.4 $\\pm$ 0.1  &          92.7 $\\pm$ 0.0  &  90.7 $\\pm$ 0.1  &  90.8 $\\pm$ 0.0  \\\\\n",
      "   & 9  &  87.5 $\\pm$ 0.0  &      68.2 $\\pm$ 0.1  &  81.5 $\\pm$ 0.1  &  84.2 $\\pm$ 0.1  &          94.1 $\\pm$ 0.1  &  91.8 $\\pm$ 0.1  &  91.7 $\\pm$ 0.1  \\\\\n",
      "   & 11 &  88.2 $\\pm$ 0.0  &      70.1 $\\pm$ 0.1  &  82.9 $\\pm$ 0.1  &  85.4 $\\pm$ 0.1  &          95.3 $\\pm$ 0.1  &  92.6 $\\pm$ 0.0  &  92.3 $\\pm$ 0.1  \\\\\n",
      "   & 13 &  88.7 $\\pm$ 0.0  &      71.8 $\\pm$ 0.1  &  84.1 $\\pm$ 0.1  &  86.5 $\\pm$ 0.0  &          96.1 $\\pm$ 0.0  &  93.2 $\\pm$ 0.0  &  93.0 $\\pm$ 0.1  \\\\\n",
      "   & 15 &  89.1 $\\pm$ 0.0  &      73.1 $\\pm$ 0.1  &  84.9 $\\pm$ 0.1  &  87.3 $\\pm$ 0.1  &          96.8 $\\pm$ 0.0  &  93.6 $\\pm$ 0.1  &  93.3 $\\pm$ 0.1  \\\\\n",
      "   & 17 &  89.9 $\\pm$ 0.0  &      74.0 $\\pm$ 0.1  &  85.5 $\\pm$ 0.1  &  88.0 $\\pm$ 0.1  &          97.2 $\\pm$ 0.0  &  93.9 $\\pm$ 0.1  &  93.7 $\\pm$ 0.1  \\\\\n",
      "\\cline{1-9}\n",
      "\\multirow{9}{*}{14} & 1  &  76.5 $\\pm$ 0.1  &      70.4 $\\pm$ 0.1  &  70.4 $\\pm$ 0.1  &  70.4 $\\pm$ 0.1  &          83.2 $\\pm$ 0.1  &  83.2 $\\pm$ 0.1  &  83.2 $\\pm$ 0.1  \\\\\n",
      "   & 3  &  83.9 $\\pm$ 0.1  &      63.9 $\\pm$ 0.1  &  73.8 $\\pm$ 0.1  &  77.9 $\\pm$ 0.1  &          85.2 $\\pm$ 0.1  &  86.4 $\\pm$ 0.1  &  88.4 $\\pm$ 0.1  \\\\\n",
      "   & 5  &  87.0 $\\pm$ 0.1  &      64.5 $\\pm$ 0.1  &  78.8 $\\pm$ 0.1  &  81.7 $\\pm$ 0.1  &          90.0 $\\pm$ 0.1  &  89.7 $\\pm$ 0.1  &  90.4 $\\pm$ 0.1  \\\\\n",
      "   & 7  &  88.7 $\\pm$ 0.0  &      66.5 $\\pm$ 0.1  &  80.9 $\\pm$ 0.1  &  84.0 $\\pm$ 0.1  &          92.6 $\\pm$ 0.0  &  90.9 $\\pm$ 0.1  &  91.5 $\\pm$ 0.1  \\\\\n",
      "   & 9  &  89.8 $\\pm$ 0.0  &      68.4 $\\pm$ 0.1  &  82.9 $\\pm$ 0.1  &  85.5 $\\pm$ 0.1  &          94.2 $\\pm$ 0.1  &  92.0 $\\pm$ 0.1  &  92.2 $\\pm$ 0.0  \\\\\n",
      "   & 11 &  90.3 $\\pm$ 0.0  &      70.1 $\\pm$ 0.1  &  84.3 $\\pm$ 0.1  &  87.0 $\\pm$ 0.1  &          95.3 $\\pm$ 0.0  &  92.9 $\\pm$ 0.0  &  93.0 $\\pm$ 0.0  \\\\\n",
      "   & 13 &  91.0 $\\pm$ 0.0  &      71.6 $\\pm$ 0.1  &  85.1 $\\pm$ 0.1  &  87.7 $\\pm$ 0.1  &          96.1 $\\pm$ 0.0  &  93.4 $\\pm$ 0.0  &  93.4 $\\pm$ 0.0  \\\\\n",
      "   & 15 &  91.2 $\\pm$ 0.0  &      72.9 $\\pm$ 0.1  &  86.0 $\\pm$ 0.1  &  88.4 $\\pm$ 0.1  &          96.8 $\\pm$ 0.0  &  93.8 $\\pm$ 0.0  &  93.8 $\\pm$ 0.0  \\\\\n",
      "   & 17 &  92.0 $\\pm$ 0.0  &      74.3 $\\pm$ 0.1  &  86.9 $\\pm$ 0.1  &  89.2 $\\pm$ 0.1  &          97.2 $\\pm$ 0.0  &  94.2 $\\pm$ 0.0  &  94.1 $\\pm$ 0.1  \\\\\n",
      "\\cline{1-9}\n",
      "\\multirow{9}{*}{21} & 1  &  79.5 $\\pm$ 0.1  &      74.1 $\\pm$ 0.1  &  74.1 $\\pm$ 0.1  &  74.1 $\\pm$ 0.1  &          85.2 $\\pm$ 0.1  &  85.2 $\\pm$ 0.1  &  85.2 $\\pm$ 0.1  \\\\\n",
      "   & 3  &  86.3 $\\pm$ 0.0  &      68.0 $\\pm$ 0.1  &  77.4 $\\pm$ 0.1  &  81.4 $\\pm$ 0.1  &          87.0 $\\pm$ 0.1  &  88.0 $\\pm$ 0.0  &  90.1 $\\pm$ 0.0  \\\\\n",
      "   & 5  &  89.0 $\\pm$ 0.0  &      68.6 $\\pm$ 0.1  &  82.3 $\\pm$ 0.1  &  85.0 $\\pm$ 0.1  &          91.8 $\\pm$ 0.0  &  91.1 $\\pm$ 0.1  &  91.9 $\\pm$ 0.1  \\\\\n",
      "   & 7  &  90.5 $\\pm$ 0.1  &      70.7 $\\pm$ 0.1  &  84.2 $\\pm$ 0.1  &  87.0 $\\pm$ 0.1  &          93.9 $\\pm$ 0.0  &  92.1 $\\pm$ 0.0  &  92.8 $\\pm$ 0.1  \\\\\n",
      "   & 9  &  91.5 $\\pm$ 0.0  &      72.4 $\\pm$ 0.1  &  85.7 $\\pm$ 0.1  &  88.1 $\\pm$ 0.1  &          95.1 $\\pm$ 0.0  &  93.1 $\\pm$ 0.0  &  93.4 $\\pm$ 0.1  \\\\\n",
      "   & 11 &  92.0 $\\pm$ 0.0  &      73.7 $\\pm$ 0.1  &  87.0 $\\pm$ 0.1  &  89.3 $\\pm$ 0.1  &          96.2 $\\pm$ 0.1  &  93.7 $\\pm$ 0.0  &  94.0 $\\pm$ 0.0  \\\\\n",
      "   & 13 &  92.4 $\\pm$ 0.0  &      75.0 $\\pm$ 0.1  &  87.8 $\\pm$ 0.0  &  90.1 $\\pm$ 0.1  &          96.7 $\\pm$ 0.0  &  94.2 $\\pm$ 0.0  &  94.4 $\\pm$ 0.0  \\\\\n",
      "   & 15 &  92.7 $\\pm$ 0.0  &      76.1 $\\pm$ 0.1  &  88.4 $\\pm$ 0.1  &  90.5 $\\pm$ 0.1  &          97.4 $\\pm$ 0.0  &  94.6 $\\pm$ 0.0  &  94.6 $\\pm$ 0.0  \\\\\n",
      "   & 17 &  93.3 $\\pm$ 0.0  &      77.3 $\\pm$ 0.1  &  88.9 $\\pm$ 0.1  &  91.2 $\\pm$ 0.1  &          97.7 $\\pm$ 0.0  &  94.9 $\\pm$ 0.0  &  95.0 $\\pm$ 0.0  \\\\\n",
      "\\bottomrule\n",
      "\\end{tabular}\n",
      "\\caption[The effect on reproducibility of varying the number of days incubated, the number of classifications and the consensus method.]{\\label{table:S4} The effect on reproducibility of varying the number of days incubated, the number of classifications, $n$, and the consensus method.}\n",
      "\\end{center}\n",
      "\\end{table}\n",
      "\n"
     ]
    }
   ],
   "source": [
    "df=copy.deepcopy(CONSENSUS_SUMMARY.loc[(CONSENSUS_SUMMARY.TYPE=='REPRODUCIBILITY') &\\\n",
    "                                       (CONSENSUS_SUMMARY.TRUTH_SET=='TRUTH_SET_3') &\\\n",
    "                                       (CONSENSUS_SUMMARY.STDDEV=='ALL') &\\\n",
    "                                         (CONSENSUS_SUMMARY.GROWTH=='ALL') &\\\n",
    "                                         (CONSENSUS_SUMMARY.DRUG=='ALL') &\\\n",
    "                                        (CONSENSUS_SUMMARY.N_CLASSIFICATIONS<=17)] )\n",
    "\n",
    "df.replace({'METHOD':{'MEDIAN':'Median','MEAN':'Mean','MODE':'Mode'}},inplace=True)\n",
    "df.rename(columns={'N_CLASSIFICATIONS':'Number of classifications'},inplace=True)\n",
    "\n",
    "\n",
    "pivot=df.pivot(index=['Number of classifications','READINGDAY','BOOTSTRAP_RUN'],\\\n",
    "            columns='METHOD',\\\n",
    "            values=['INNER_SQUARE','EXACT_AGREEMENT','ESSENTIAL_AGREEMENT'])\n",
    "pivot.reset_index(inplace=True)\n",
    "\n",
    "table=pivot[[('Number of classifications',''),('READINGDAY',''),('INNER_SQUARE','Mean'),('EXACT_AGREEMENT','Mean'),\\\n",
    "                             ('EXACT_AGREEMENT','Median'),\\\n",
    "                             ('EXACT_AGREEMENT','Mode'),\\\n",
    "                             ('ESSENTIAL_AGREEMENT','Mean'),\\\n",
    "                             ('ESSENTIAL_AGREEMENT','Median'),\\\n",
    "                             ('ESSENTIAL_AGREEMENT','Mode')]]\\\n",
    ".groupby([('READINGDAY',''),('Number of classifications','')]).agg([numpy.mean,stats.sem])    \n",
    "\n",
    "def return_formatted_values(row):\n",
    "    tmp=[]\n",
    "    tmp.append(\"%.1f $\\pm$ %.1f \"% (row[('INNER_SQUARE','Mean','mean')],row[('INNER_SQUARE','Mean','sem')]))\n",
    "    for j in ['EXACT_AGREEMENT','ESSENTIAL_AGREEMENT']:\n",
    "        for i in ['Mean','Median','Mode']:\n",
    "            tmp.append(\"%.1f $\\pm$ %.1f \"% (row[(j,i,'mean')],row[(j,i,'sem')]))\n",
    "    return(pandas.Series(tmp))\n",
    "\n",
    "table=copy.deepcopy(table.apply(return_formatted_values,axis=1))\n",
    "table.index.names=['Reading day','$n$']\n",
    "tuples=[('Prop. with','MIC (\\%)'),('Exact Agreement (\\%)','Mean'),('Exact Agreement (\\%)','Median'),('Exact Agreement (\\%)','Mode'),('Essential Agreement (\\%)','Mean'),('Essential Agreement (\\%)','Median'),('Essential Agreement (\\%)','Mode')]\n",
    "table.columns=pandas.MultiIndex.from_tuples(tuples)\n",
    "\n",
    "\n",
    "print(\"\\\\begin{table}\\n\\\\begin{center}\")\n",
    "print(table.to_latex(index=True,\\\n",
    "                     escape=False,\\\n",
    "                     column_format='rr|p{1.8cm}|p{1.6cm}p{1.6cm}p{1.6cm}|p{1.6cm}p{1.6cm}p{1.6cm}',\\\n",
    "                     multicolumn_format='c',\\\n",
    "                     multirow=True).rstrip())\n",
    "print(\"\\\\caption[The effect on reproducibility of varying the number of days incubated, the number of classifications and the consensus method.]{\\\\label{table:S4} The effect on reproducibility of varying the number of days incubated, the number of classifications, $n$, and the consensus method. The standard error of the mean is given.}\")\n",
    "print(\"\\\\end{center}\\n\\\\end{table}\\n\")\n"
   ]
  },
  {
   "cell_type": "markdown",
   "metadata": {},
   "source": [
    "# Table S6: accuracy"
   ]
  },
  {
   "cell_type": "code",
   "execution_count": 47,
   "metadata": {},
   "outputs": [
    {
     "name": "stdout",
     "output_type": "stream",
     "text": [
      "\\begin{table}\n",
      "\\begin{center}\n",
      "\\begin{tabular}{rr|p{1.8cm}|p{1.6cm}p{1.6cm}p{1.6cm}|p{1.6cm}p{1.6cm}p{1.6cm}}\n",
      "\\toprule\n",
      "   &    &       Prop. with & \\multicolumn{3}{c}{Exact Agreement (\\%)} & \\multicolumn{3}{c}{Essential Agreement (\\%)} \\\\\n",
      "   &    &         MIC (\\%) &                 Mean &           Median &             Mode &                     Mean &           Median &             Mode \\\\\n",
      "Reading day & $n$ &                  &                      &                  &                  &                          &                  &                  \\\\\n",
      "\\midrule\n",
      "\\multirow{8}{*}{7} & 3  &  78.0 $\\pm$ 0.1  &      67.6 $\\pm$ 0.2  &  69.1 $\\pm$ 0.2  &  74.0 $\\pm$ 0.2  &          84.0 $\\pm$ 0.1  &  85.8 $\\pm$ 0.1  &  89.4 $\\pm$ 0.1  \\\\\n",
      "   & 5  &  78.5 $\\pm$ 0.1  &      67.3 $\\pm$ 0.1  &  70.1 $\\pm$ 0.1  &  73.5 $\\pm$ 0.1  &          86.5 $\\pm$ 0.1  &  87.3 $\\pm$ 0.1  &  89.2 $\\pm$ 0.1  \\\\\n",
      "   & 7  &  78.9 $\\pm$ 0.1  &      67.9 $\\pm$ 0.2  &  70.3 $\\pm$ 0.1  &  73.7 $\\pm$ 0.1  &          87.4 $\\pm$ 0.1  &  87.6 $\\pm$ 0.1  &  89.2 $\\pm$ 0.1  \\\\\n",
      "   & 9  &  78.9 $\\pm$ 0.0  &      68.7 $\\pm$ 0.1  &  70.6 $\\pm$ 0.1  &  73.7 $\\pm$ 0.1  &          87.6 $\\pm$ 0.1  &  88.0 $\\pm$ 0.1  &  89.2 $\\pm$ 0.1  \\\\\n",
      "   & 11 &  79.2 $\\pm$ 0.1  &      69.1 $\\pm$ 0.2  &  70.8 $\\pm$ 0.1  &  73.8 $\\pm$ 0.1  &          88.4 $\\pm$ 0.1  &  88.3 $\\pm$ 0.1  &  89.2 $\\pm$ 0.1  \\\\\n",
      "   & 13 &  79.2 $\\pm$ 0.1  &      69.0 $\\pm$ 0.1  &  70.7 $\\pm$ 0.1  &  73.6 $\\pm$ 0.1  &          88.6 $\\pm$ 0.1  &  88.3 $\\pm$ 0.1  &  89.1 $\\pm$ 0.1  \\\\\n",
      "   & 15 &  79.2 $\\pm$ 0.1  &      68.8 $\\pm$ 0.2  &  70.6 $\\pm$ 0.1  &  73.5 $\\pm$ 0.1  &          88.7 $\\pm$ 0.1  &  88.3 $\\pm$ 0.1  &  89.1 $\\pm$ 0.1  \\\\\n",
      "   & 17 &  79.4 $\\pm$ 0.1  &      68.9 $\\pm$ 0.1  &  71.6 $\\pm$ 0.1  &  74.5 $\\pm$ 0.1  &          88.3 $\\pm$ 0.1  &  88.4 $\\pm$ 0.1  &  89.1 $\\pm$ 0.1  \\\\\n",
      "\\cline{1-9}\n",
      "\\multirow{8}{*}{10} & 3  &  91.7 $\\pm$ 0.0  &      70.3 $\\pm$ 0.1  &  73.4 $\\pm$ 0.1  &  78.5 $\\pm$ 0.1  &          84.0 $\\pm$ 0.1  &  86.7 $\\pm$ 0.1  &  90.4 $\\pm$ 0.1  \\\\\n",
      "   & 5  &  92.0 $\\pm$ 0.1  &      69.3 $\\pm$ 0.1  &  75.0 $\\pm$ 0.1  &  78.4 $\\pm$ 0.1  &          86.3 $\\pm$ 0.1  &  88.4 $\\pm$ 0.1  &  90.4 $\\pm$ 0.1  \\\\\n",
      "   & 7  &  92.0 $\\pm$ 0.0  &      69.6 $\\pm$ 0.1  &  75.4 $\\pm$ 0.1  &  78.7 $\\pm$ 0.1  &          87.3 $\\pm$ 0.1  &  88.9 $\\pm$ 0.1  &  90.5 $\\pm$ 0.1  \\\\\n",
      "   & 9  &  92.1 $\\pm$ 0.0  &      70.1 $\\pm$ 0.1  &  75.5 $\\pm$ 0.1  &  78.7 $\\pm$ 0.1  &          87.4 $\\pm$ 0.1  &  89.2 $\\pm$ 0.1  &  90.5 $\\pm$ 0.1  \\\\\n",
      "   & 11 &  92.2 $\\pm$ 0.0  &      70.1 $\\pm$ 0.1  &  75.8 $\\pm$ 0.1  &  78.9 $\\pm$ 0.1  &          87.9 $\\pm$ 0.1  &  89.5 $\\pm$ 0.0  &  90.6 $\\pm$ 0.1  \\\\\n",
      "   & 13 &  92.2 $\\pm$ 0.0  &      70.0 $\\pm$ 0.1  &  75.9 $\\pm$ 0.1  &  78.7 $\\pm$ 0.1  &          88.3 $\\pm$ 0.1  &  89.7 $\\pm$ 0.1  &  90.5 $\\pm$ 0.1  \\\\\n",
      "   & 15 &  92.1 $\\pm$ 0.0  &      69.8 $\\pm$ 0.1  &  75.9 $\\pm$ 0.1  &  78.9 $\\pm$ 0.1  &          88.4 $\\pm$ 0.1  &  89.8 $\\pm$ 0.1  &  90.6 $\\pm$ 0.0  \\\\\n",
      "   & 17 &  92.5 $\\pm$ 0.0  &      69.6 $\\pm$ 0.1  &  75.9 $\\pm$ 0.1  &  78.7 $\\pm$ 0.1  &          88.0 $\\pm$ 0.1  &  89.5 $\\pm$ 0.0  &  90.3 $\\pm$ 0.0  \\\\\n",
      "\\cline{1-9}\n",
      "\\multirow{8}{*}{14} & 3  &  97.1 $\\pm$ 0.0  &      69.9 $\\pm$ 0.1  &  74.5 $\\pm$ 0.1  &  80.0 $\\pm$ 0.1  &          83.6 $\\pm$ 0.1  &  86.7 $\\pm$ 0.1  &  90.6 $\\pm$ 0.1  \\\\\n",
      "   & 5  &  97.2 $\\pm$ 0.0  &      68.4 $\\pm$ 0.1  &  76.4 $\\pm$ 0.1  &  80.1 $\\pm$ 0.1  &          86.3 $\\pm$ 0.1  &  88.6 $\\pm$ 0.1  &  90.7 $\\pm$ 0.1  \\\\\n",
      "   & 7  &  97.3 $\\pm$ 0.0  &      68.1 $\\pm$ 0.1  &  76.9 $\\pm$ 0.1  &  80.5 $\\pm$ 0.1  &          87.0 $\\pm$ 0.1  &  89.0 $\\pm$ 0.1  &  90.9 $\\pm$ 0.1  \\\\\n",
      "   & 9  &  97.3 $\\pm$ 0.0  &      68.6 $\\pm$ 0.1  &  77.2 $\\pm$ 0.1  &  80.5 $\\pm$ 0.1  &          87.5 $\\pm$ 0.1  &  89.6 $\\pm$ 0.1  &  90.9 $\\pm$ 0.1  \\\\\n",
      "   & 11 &  97.3 $\\pm$ 0.0  &      68.9 $\\pm$ 0.1  &  77.7 $\\pm$ 0.1  &  80.9 $\\pm$ 0.1  &          87.9 $\\pm$ 0.1  &  89.9 $\\pm$ 0.1  &  91.1 $\\pm$ 0.1  \\\\\n",
      "   & 13 &  97.4 $\\pm$ 0.0  &      68.7 $\\pm$ 0.1  &  77.9 $\\pm$ 0.1  &  80.9 $\\pm$ 0.1  &          88.3 $\\pm$ 0.1  &  90.1 $\\pm$ 0.1  &  91.1 $\\pm$ 0.0  \\\\\n",
      "   & 15 &  97.4 $\\pm$ 0.0  &      68.5 $\\pm$ 0.1  &  78.0 $\\pm$ 0.1  &  80.9 $\\pm$ 0.0  &          88.4 $\\pm$ 0.0  &  90.2 $\\pm$ 0.1  &  91.1 $\\pm$ 0.0  \\\\\n",
      "   & 17 &  97.4 $\\pm$ 0.0  &      68.4 $\\pm$ 0.1  &  78.1 $\\pm$ 0.1  &  80.9 $\\pm$ 0.1  &          88.5 $\\pm$ 0.1  &  90.2 $\\pm$ 0.0  &  91.0 $\\pm$ 0.0  \\\\\n",
      "\\cline{1-9}\n",
      "\\multirow{8}{*}{21} & 3  &  98.9 $\\pm$ 0.0  &      74.3 $\\pm$ 0.1  &  79.3 $\\pm$ 0.1  &  84.0 $\\pm$ 0.1  &          86.3 $\\pm$ 0.1  &  89.0 $\\pm$ 0.1  &  92.3 $\\pm$ 0.1  \\\\\n",
      "   & 5  &  99.0 $\\pm$ 0.0  &      73.1 $\\pm$ 0.1  &  81.3 $\\pm$ 0.1  &  84.5 $\\pm$ 0.1  &          88.8 $\\pm$ 0.1  &  90.7 $\\pm$ 0.1  &  92.5 $\\pm$ 0.1  \\\\\n",
      "   & 7  &  99.0 $\\pm$ 0.0  &      73.4 $\\pm$ 0.1  &  81.9 $\\pm$ 0.1  &  85.1 $\\pm$ 0.1  &          89.6 $\\pm$ 0.1  &  91.4 $\\pm$ 0.1  &  92.9 $\\pm$ 0.1  \\\\\n",
      "   & 9  &  99.0 $\\pm$ 0.0  &      73.7 $\\pm$ 0.1  &  82.4 $\\pm$ 0.1  &  85.2 $\\pm$ 0.1  &          89.8 $\\pm$ 0.1  &  91.7 $\\pm$ 0.0  &  92.9 $\\pm$ 0.0  \\\\\n",
      "   & 11 &  99.0 $\\pm$ 0.0  &      73.5 $\\pm$ 0.1  &  82.7 $\\pm$ 0.1  &  85.5 $\\pm$ 0.1  &          90.2 $\\pm$ 0.1  &  92.1 $\\pm$ 0.1  &  93.1 $\\pm$ 0.1  \\\\\n",
      "   & 13 &  99.0 $\\pm$ 0.0  &      73.8 $\\pm$ 0.1  &  83.0 $\\pm$ 0.1  &  85.6 $\\pm$ 0.1  &          90.5 $\\pm$ 0.0  &  92.4 $\\pm$ 0.1  &  93.2 $\\pm$ 0.1  \\\\\n",
      "   & 15 &  99.0 $\\pm$ 0.0  &      73.5 $\\pm$ 0.1  &  83.2 $\\pm$ 0.1  &  85.6 $\\pm$ 0.1  &          90.6 $\\pm$ 0.1  &  92.5 $\\pm$ 0.1  &  93.2 $\\pm$ 0.1  \\\\\n",
      "   & 17 &  99.0 $\\pm$ 0.0  &      73.3 $\\pm$ 0.1  &  83.2 $\\pm$ 0.1  &  85.6 $\\pm$ 0.1  &          90.6 $\\pm$ 0.1  &  92.6 $\\pm$ 0.1  &  93.3 $\\pm$ 0.0  \\\\\n",
      "\\bottomrule\n",
      "\\end{tabular}\n",
      "\\caption[The effect on accuracy of varying the number of days incubated, the number of classifications and the consensus method.]{\\label{table:S4} The effect on accuracy of varying the number of days incubated, the number of classifications, $n$, and the consensus method.}\n",
      "\\end{center}\n",
      "\\end{table}\n",
      "\n"
     ]
    }
   ],
   "source": [
    "df=copy.deepcopy(CONSENSUS_SUMMARY.loc[(CONSENSUS_SUMMARY.TYPE=='ACCURACY') &\\\n",
    "                                       (CONSENSUS_SUMMARY.TRUTH_SET=='TRUTH_SET_3') &\\\n",
    "                                       (CONSENSUS_SUMMARY.STDDEV=='ALL') &\\\n",
    "                                       (CONSENSUS_SUMMARY.GROWTH=='ALL') &\\\n",
    "                                       (CONSENSUS_SUMMARY.DRUG=='ALL') &\\\n",
    "                                       (CONSENSUS_SUMMARY.N_CLASSIFICATIONS<=17) &\\\n",
    "                                       (CONSENSUS_SUMMARY.N_CLASSIFICATIONS>1) ])\n",
    "\n",
    "df.replace({'METHOD':{'MEDIAN':'Median','MEAN':'Mean','MODE':'Mode'}},inplace=True)\n",
    "df.rename(columns={'N_CLASSIFICATIONS':'Number of classifications'},inplace=True)\n",
    "\n",
    "\n",
    "pivot=df.pivot(index=['Number of classifications','READINGDAY','BOOTSTRAP_RUN'],\\\n",
    "            columns='METHOD',\\\n",
    "            values=['PROP_READ','EXACT_AGREEMENT','ESSENTIAL_AGREEMENT'])\n",
    "pivot.reset_index(inplace=True)\n",
    "\n",
    "table=pivot[[('Number of classifications',''),('READINGDAY',''),('PROP_READ','Mean'),('EXACT_AGREEMENT','Mean'),\\\n",
    "                             ('EXACT_AGREEMENT','Median'),\\\n",
    "                             ('EXACT_AGREEMENT','Mode'),\\\n",
    "                             ('ESSENTIAL_AGREEMENT','Mean'),\\\n",
    "                             ('ESSENTIAL_AGREEMENT','Median'),\\\n",
    "                             ('ESSENTIAL_AGREEMENT','Mode')]]\\\n",
    ".groupby([('READINGDAY',''),('Number of classifications','')]).agg([numpy.mean,stats.sem])    \n",
    "\n",
    "def return_formatted_values(row):\n",
    "    tmp=[]\n",
    "    tmp.append(\"%.1f $\\pm$ %.1f \"% (row[('PROP_READ','Mean','mean')],row[('PROP_READ','Mean','sem')]))\n",
    "    for j in ['EXACT_AGREEMENT','ESSENTIAL_AGREEMENT']:\n",
    "        for i in ['Mean','Median','Mode']:\n",
    "            tmp.append(\"%.1f $\\pm$ %.1f \"% (row[(j,i,'mean')],row[(j,i,'sem')]))\n",
    "    return(pandas.Series(tmp))\n",
    "\n",
    "table=copy.deepcopy(table.apply(return_formatted_values,axis=1))\n",
    "table.index.names=['Reading day','$n$']\n",
    "tuples=[('Prop. with','MIC (\\%)'),('Exact Agreement (\\%)','Mean'),('Exact Agreement (\\%)','Median'),('Exact Agreement (\\%)','Mode'),('Essential Agreement (\\%)','Mean'),('Essential Agreement (\\%)','Median'),('Essential Agreement (\\%)','Mode')]\n",
    "table.columns=pandas.MultiIndex.from_tuples(tuples)\n",
    "\n",
    "print(\"\\\\begin{table}\\n\\\\begin{center}\")\n",
    "print(table.to_latex(index=True,\\\n",
    "                     escape=False,\\\n",
    "                     column_format='rr|p{1.8cm}|p{1.6cm}p{1.6cm}p{1.6cm}|p{1.6cm}p{1.6cm}p{1.6cm}',\\\n",
    "                     multicolumn_format='c',\\\n",
    "                     multirow=True).rstrip())\n",
    "print(\"\\\\caption[The effect on accuracy of varying the number of days incubated, the number of classifications and the consensus method.]{\\\\label{table:S4} The effect on accuracy of varying the number of days incubated, the number of classifications, $n$, and the consensus method. The standard error of the mean is given.}\")\n",
    "print(\"\\\\end{center}\\n\\\\end{table}\\n\")\n"
   ]
  },
  {
   "cell_type": "markdown",
   "metadata": {},
   "source": [
    "# Table S7, S8: Does halting at n=3 improve matters?"
   ]
  },
  {
   "cell_type": "code",
   "execution_count": 57,
   "metadata": {},
   "outputs": [
    {
     "name": "stdout",
     "output_type": "stream",
     "text": [
      "\\begin{table}\n",
      "\\begin{center}\n",
      "\\begin{tabular}{rr|rp{1.8cm}|p{1.6cm}p{1.6cm}p{1.6cm}|p{1.6cm}p{1.6cm}p{1.6cm}}\n",
      "\\toprule\n",
      "   &    & Average & Prop. with & \\multicolumn{3}{c}{Exact Agreement (\\%)} & \\multicolumn{3}{c}{Essential Agreement (\\%)} \\\\\n",
      "   &    &     $n$ &   MIC (\\%) &                 Mean & Median & Mode &                     Mean & Median & Mode \\\\\n",
      "Reading day & $n$ &         &            &                      &        &      &                          &        &      \\\\\n",
      "\\midrule\n",
      "\\multirow{8}{*}{14} & 3  &     3.0 &       95.1 &                 81.4 &   79.1 & 81.7 &                     92.6 &   89.3 & 90.4 \\\\\n",
      "   & 5  &     3.9 &       96.6 &                 79.0 &   82.7 & 84.4 &                     93.1 &   91.4 & 91.6 \\\\\n",
      "   & 7  &     4.7 &       97.1 &                 80.0 &   83.6 & 85.7 &                     94.4 &   92.1 & 92.1 \\\\\n",
      "   & 9  &     5.6 &       97.4 &                 80.8 &   84.6 & 86.6 &                     95.3 &   92.8 & 92.7 \\\\\n",
      "   & 11 &     6.5 &       97.6 &                 82.0 &   85.5 & 87.3 &                     96.1 &   93.3 & 93.1 \\\\\n",
      "   & 13 &     7.3 &       97.8 &                 82.8 &   86.1 & 88.0 &                     96.6 &   93.7 & 93.4 \\\\\n",
      "   & 15 &     8.2 &       98.0 &                 83.3 &   86.6 & 88.5 &                     96.9 &   93.9 & 93.7 \\\\\n",
      "   & 17 &     8.8 &       98.2 &                 84.5 &   87.6 & 89.4 &                     97.3 &   94.4 & 94.1 \\\\\n",
      "\\bottomrule\n",
      "\\end{tabular}\n",
      "\\caption[Reproducibility when applying early halting]{\\label{table:S7} The effect on reproducibility of dynamically retiring images if the first three classifications are identical and continuing the remainder until they have accrued $n$ classifications.}\n",
      "\\end{center}\n",
      "\\end{table}\n",
      "\n",
      "\\begin{table}\n",
      "\\begin{center}\n",
      "\\begin{tabular}{rr|rp{1.8cm}|p{1.6cm}p{1.6cm}p{1.6cm}|p{1.6cm}p{1.6cm}p{1.6cm}}\n",
      "\\toprule\n",
      "   &    & Average & Prop. with & \\multicolumn{3}{c}{Exact Agreement (\\%)} & \\multicolumn{3}{c}{Essential Agreement (\\%)} \\\\\n",
      "   &    &     $n$ &   MIC (\\%) &                 Mean & Median & Mode &                     Mean & Median & Mode \\\\\n",
      "Reading day & $n$ &         &            &                      &        &      &                          &        &      \\\\\n",
      "\\midrule\n",
      "\\multirow{8}{*}{14} & 3  &     3.0 &       97.2 &                 69.9 &   74.5 & 80.0 &                     83.6 &   86.7 & 90.6 \\\\\n",
      "   & 5  &     3.8 &       96.9 &                 74.4 &   77.7 & 80.2 &                     88.1 &   89.2 & 90.6 \\\\\n",
      "   & 7  &     4.6 &       97.0 &                 74.1 &   77.8 & 80.4 &                     88.5 &   89.5 & 90.7 \\\\\n",
      "   & 9  &     5.4 &       97.0 &                 74.2 &   77.9 & 80.4 &                     88.6 &   89.8 & 90.7 \\\\\n",
      "   & 11 &     6.2 &       97.0 &                 74.4 &   78.2 & 80.6 &                     88.9 &   90.0 & 90.8 \\\\\n",
      "   & 13 &     7.0 &       97.1 &                 74.4 &   78.3 & 80.5 &                     89.1 &   90.1 & 90.8 \\\\\n",
      "   & 15 &     7.8 &       97.1 &                 74.2 &   78.3 & 80.6 &                     89.1 &   90.2 & 90.8 \\\\\n",
      "   & 17 &     8.4 &       97.1 &                 74.8 &   78.8 & 80.9 &                     89.4 &   90.3 & 90.9 \\\\\n",
      "\\bottomrule\n",
      "\\end{tabular}\n",
      "\\caption[Accuracy when applying early halting]{\\label{table:S8} The effect on accuracy of dynamically retiring images if the first three classifications are identical and continuing the remainder until they have accrued $n$ classifications.}\n",
      "\\end{center}\n",
      "\\end{table}\n",
      "\n"
     ]
    }
   ],
   "source": [
    "def return_weighted_value(a,b,column):\n",
    "    a_x=float(a[column])\n",
    "    b_x=float(b[column])\n",
    "    a_n=float(a['N'])\n",
    "    b_n=float(b['N'])\n",
    "    value=(((a_x*a_n)+(b_x*b_n))/(a_n+b_n))\n",
    "    return(value)\n",
    "\n",
    "\n",
    "for metric in ['REPRODUCIBILITY','ACCURACY']:\n",
    "\n",
    "    table=[]\n",
    "\n",
    "    for reading_day in [14]:\n",
    "\n",
    "        df=CONDENSED_SUMMARY.loc[ (CONDENSED_SUMMARY.READINGDAY==reading_day) &\\\n",
    "                                  (CONDENSED_SUMMARY.GROWTH=='ALL') &\\\n",
    "                                  (CONDENSED_SUMMARY.DRUG=='ALL') &\\\n",
    "                                  (CONDENSED_SUMMARY.TRUTH_SET=='TRUTH_SET_3') &\\\n",
    "                                  (CONDENSED_SUMMARY.TYPE==metric)  ]\n",
    "\n",
    "        zero_rows=copy.deepcopy(df.loc[(df.N_CLASSIFICATIONS==3) & (df.STDDEV=='ZERO')])\n",
    "\n",
    "        for n in [3,5,7,9,11,13,15,17]:\n",
    "\n",
    "            line=[]\n",
    "            line.append(reading_day)\n",
    "\n",
    "            non_zero_rows=df.loc[(df.N_CLASSIFICATIONS==n) & (df.STDDEV=='NOT_ZERO')]\n",
    "\n",
    "            line.append(n)\n",
    "\n",
    "            for method in ['MEAN','MEDIAN','MODE']:\n",
    "\n",
    "                a=zero_rows.loc[zero_rows.METHOD==method]       \n",
    "                b=non_zero_rows.loc[non_zero_rows.METHOD==method]\n",
    "\n",
    "                if method=='MEAN':\n",
    "                    line.append(return_weighted_value(a,b,'N_CLASSIFICATIONS'))\n",
    "\n",
    "                    line.append(return_weighted_value(a,b,'PROP_READ'))\n",
    "\n",
    "                diagonal=return_weighted_value(a,b,'DIAGONAL')\n",
    "                inner_square=return_weighted_value(a,b,'INNER_SQUARE')\n",
    "\n",
    "                line.append(100*diagonal/inner_square)\n",
    "\n",
    "            for method in ['MEAN','MEDIAN','MODE']:\n",
    "\n",
    "                a=zero_rows.loc[zero_rows.METHOD==method]       \n",
    "                b=non_zero_rows.loc[non_zero_rows.METHOD==method]\n",
    "\n",
    "                diagonal=return_weighted_value(a,b,'DIAGONAL')\n",
    "                inner_square=return_weighted_value(a,b,'INNER_SQUARE')\n",
    "                upper_diagonal=return_weighted_value(a,b,'UPPER_DIAGONAL')\n",
    "                lower_diagonal=return_weighted_value(a,b,'LOWER_DIAGONAL')        \n",
    "\n",
    "                line.append(100*(upper_diagonal+diagonal+lower_diagonal)/inner_square)\n",
    "\n",
    "            table.append(line)\n",
    "\n",
    "    table=pandas.DataFrame(table,columns=['Reading day','$n$','av N','prop','X1','X2','X3','M1','M2','M3'])\n",
    "\n",
    "    table.set_index(['Reading day','$n$'],inplace=True)\n",
    "\n",
    "    table.columns=pandas.MultiIndex.from_tuples([('Average','$n$'),('Prop. with','MIC (\\%)'),('Exact Agreement (\\%)','Mean'),('Exact Agreement (\\%)','Median'),('Exact Agreement (\\%)','Mode'),('Essential Agreement (\\%)','Mean'),('Essential Agreement (\\%)','Median'),('Essential Agreement (\\%)','Mode')])\n",
    "\n",
    "    print(\"\\\\begin{table}\\n\\\\begin{center}\")\n",
    "    print(table.to_latex(index=True,\\\n",
    "                        float_format='%.1f',\\\n",
    "                         escape=False,\\\n",
    "                         column_format='rr|rp{1.8cm}|p{1.6cm}p{1.6cm}p{1.6cm}|p{1.6cm}p{1.6cm}p{1.6cm}',\\\n",
    "                         multicolumn_format='c',\\\n",
    "                         multirow=True).rstrip() )\n",
    "    \n",
    "    if metric=='REPRODUCIBILITY':\n",
    "        print(\"\\\\caption[Reproducibility when applying early halting]{\\\\label{table:S7} The effect on reproducibility of dynamically retiring images if the first three classifications are identical and continuing the remainder until they have accrued $n$ classifications.}\") \n",
    "    else:\n",
    "        print(\"\\\\caption[Accuracy when applying early halting]{\\\\label{table:S8} The effect on accuracy of dynamically retiring images if the first three classifications are identical and continuing the remainder until they have accrued $n$ classifications.}\") \n",
    "    print(\"\\\\end{center}\\n\\\\end{table}\\n\")\n"
   ]
  },
  {
   "cell_type": "markdown",
   "metadata": {},
   "source": [
    "# Table S9: Agreement between Expert and BashTheBug by dilution"
   ]
  },
  {
   "cell_type": "code",
   "execution_count": 50,
   "metadata": {},
   "outputs": [
    {
     "name": "stderr",
     "output_type": "stream",
     "text": [
      "<ipython-input-50-6f20ccfe4653>:3: SettingWithCopyWarning: \n",
      "A value is trying to be set on a copy of a slice from a DataFrame.\n",
      "Try using .loc[row_indexer,col_indexer] = value instead\n",
      "\n",
      "See the caveats in the documentation: https://pandas.pydata.org/pandas-docs/stable/user_guide/indexing.html#returning-a-view-versus-a-copy\n",
      "  df['MEDIAN_XA']=df['MEDIAN']==df['TRUTH_SET_1']\n",
      "<ipython-input-50-6f20ccfe4653>:4: SettingWithCopyWarning: \n",
      "A value is trying to be set on a copy of a slice from a DataFrame.\n",
      "Try using .loc[row_indexer,col_indexer] = value instead\n",
      "\n",
      "See the caveats in the documentation: https://pandas.pydata.org/pandas-docs/stable/user_guide/indexing.html#returning-a-view-versus-a-copy\n",
      "  df['MEDIAN_CEIL']=numpy.ceil(df['MEDIAN'])\n",
      "<ipython-input-50-6f20ccfe4653>:6: SettingWithCopyWarning: \n",
      "A value is trying to be set on a copy of a slice from a DataFrame.\n",
      "Try using .loc[row_indexer,col_indexer] = value instead\n",
      "\n",
      "See the caveats in the documentation: https://pandas.pydata.org/pandas-docs/stable/user_guide/indexing.html#returning-a-view-versus-a-copy\n",
      "  df['MEDIAN_EA']=(df.MEDIAN_CEIL<=df['TRUTH_SET_1']+1) & (df.MEDIAN_CEIL>=df['TRUTH_SET_1']-1)\n"
     ]
    },
    {
     "name": "stdout",
     "output_type": "stream",
     "text": [
      "\\begin{table}\n",
      "\\begin{center}\n",
      "\\begin{tabular}{r|r}\n",
      "\\toprule\n",
      "Dilution &        Agreement \\\\\n",
      "\\midrule\n",
      "      NR & 20.0 $\\pm$ 0.1 % \\\\\n",
      "       1 & 83.9 $\\pm$ 0.1 % \\\\\n",
      "       2 & 72.0 $\\pm$ 0.1 % \\\\\n",
      "       3 & 66.6 $\\pm$ 0.1 % \\\\\n",
      "       4 & 48.2 $\\pm$ 0.1 % \\\\\n",
      "       5 & 53.4 $\\pm$ 0.1 % \\\\\n",
      "       6 & 52.6 $\\pm$ 0.1 % \\\\\n",
      "       7 & 42.8 $\\pm$ 0.1 % \\\\\n",
      "       8 & 46.7 $\\pm$ 0.1 % \\\\\n",
      "       9 & 21.1 $\\pm$ 0.2 % \\\\\n",
      "\\bottomrule\n",
      "\\end{tabular}\n",
      "\\caption[The Expert and BashTheBug MICs are more likely to concur at smaller dilutions.]{\\label{table:S4} The Expert and BashTheBug MICs are more likely to concur at smaller dilutions. The BashTheBug consensus measurement was built by taking the median of 17 classifications and rounding up if a non-integer was returned.}\n",
      "\\end{center}\n",
      "\\end{table}\n",
      "\n"
     ]
    }
   ],
   "source": [
    "df=CONSENSUS_DATASET.loc[ (CONSENSUS_DATASET.READINGDAY==14)]\n",
    "\n",
    "df['MEDIAN_XA']=df['MEDIAN']==df['TRUTH_SET_1']\n",
    "df['MEDIAN_CEIL']=numpy.ceil(df['MEDIAN'])\n",
    "\n",
    "df['MEDIAN_EA']=(df.MEDIAN_CEIL<=df['TRUTH_SET_1']+1) & (df.MEDIAN_CEIL>=df['TRUTH_SET_1']-1)\n",
    "\n",
    "table=copy.deepcopy(df[['MEDIAN_CEIL','MEDIAN_XA']].groupby('MEDIAN_CEIL').agg([numpy.mean,stats.sem]))\n",
    "table.columns=table.columns.droplevel()\n",
    "def return_formatted_values(row):\n",
    "    return(\"%.1f $\\pm$ %.1f %%\"% (100*row[('mean')],100*row[('sem')]))\n",
    "table[['Agreement']]=table.apply(return_formatted_values,axis=1)\n",
    "table.reset_index(inplace=True)\n",
    "table\n",
    "table.rename(columns={'MEDIAN_CEIL':'Dilution'},inplace=True)\n",
    "table.Dilution=table.Dilution.astype(int)\n",
    "table.replace({'Dilution':{0:'NR'}},inplace=True)\n",
    "table=table[['Dilution','Agreement']]\n",
    "\n",
    "print(\"\\\\begin{table}\\n\\\\begin{center}\")\n",
    "print(table.to_latex(float_format='%.1f %',\\\n",
    "                     column_format='r|r',\\\n",
    "               escape=False,\\\n",
    "               index=False).rstrip())\n",
    "print(\"\\\\caption[The Expert and BashTheBug MICs are more likely to concur at smaller dilutions. ]{\\\\label{table:S4} The Expert and BashTheBug MICs are more likely to concur at smaller dilutions. The BashTheBug consensus measurement was built by taking the median of 17 classifications and rounding up if a non-integer was returned. The standard error of the mean is given.}\")\n",
    "print(\"\\\\end{center}\\n\\\\end{table}\\n\")\n"
   ]
  },
  {
   "cell_type": "markdown",
   "metadata": {},
   "source": [
    "## Fig 5, SX. Combined graphs (incl. growth)"
   ]
  },
  {
   "cell_type": "code",
   "execution_count": 51,
   "metadata": {},
   "outputs": [
    {
     "name": "stderr",
     "output_type": "stream",
     "text": [
      "  0%|          | 0/2 [00:00<?, ?it/s]\n",
      "  0%|          | 0/3 [00:00<?, ?it/s]\u001b[A\n",
      " 33%|███▎      | 1/3 [00:10<00:21, 10.57s/it]\u001b[A\n",
      " 67%|██████▋   | 2/3 [00:21<00:10, 10.51s/it]\u001b[A\n",
      "100%|██████████| 3/3 [00:33<00:00, 11.22s/it]\u001b[A\n",
      " 50%|█████     | 1/2 [00:33<00:33, 33.65s/it]\n",
      "  0%|          | 0/3 [00:00<?, ?it/s]\u001b[A\n",
      " 33%|███▎      | 1/3 [00:10<00:21, 10.70s/it]\u001b[A\n",
      " 67%|██████▋   | 2/3 [00:21<00:10, 10.71s/it]\u001b[A\n",
      "100%|██████████| 3/3 [00:31<00:00, 10.65s/it]\u001b[A\n",
      "100%|██████████| 2/2 [01:05<00:00, 32.80s/it]\n"
     ]
    }
   ],
   "source": [
    "methods=['mean','median','mode']\n",
    "\n",
    "for dataset_type in tqdm(['reproducibility','accuracy']):\n",
    "\n",
    "    for truth_set in tqdm(['truth_set_3','truth_set_2','truth_set_1']):\n",
    "\n",
    "        for reading_day in [7,10,14,21]:\n",
    "\n",
    "            for growth in ['ALL','HIGH','MEDIUM','LOW']:\n",
    "\n",
    "                fig,axes=plt.subplots(1,4,figsize=(18,4),sharey=True)\n",
    "                \n",
    "                fig.subplots_adjust(wspace=0)\n",
    "\n",
    "                # subset out the rows we want\n",
    "                df2=CONSENSUS_SUMMARY.loc[(CONSENSUS_SUMMARY.TYPE==dataset_type.upper()) &\\\n",
    "                                         (CONSENSUS_SUMMARY.TRUTH_SET==truth_set.upper()) &\\\n",
    "                                         (CONSENSUS_SUMMARY.METHOD=='MEAN') &\\\n",
    "                                         (CONSENSUS_SUMMARY.READINGDAY==reading_day) &\\\n",
    "                                         (CONSENSUS_SUMMARY.GROWTH==growth) &\\\n",
    "                                         (CONSENSUS_SUMMARY.STDDEV=='ALL') &\\\n",
    "                                         (CONSENSUS_SUMMARY.DRUG=='ALL')]\n",
    "                if not df2.empty:\n",
    "                    # aggregate over the bootstrapped runs\n",
    "                    df=df2[['N_CLASSIFICATIONS','PROP_READ']].groupby(['N_CLASSIFICATIONS']).agg([numpy.mean,stats.sem])                \n",
    "                    axes[0].plot(df[('PROP_READ','mean')],color='black')\n",
    "                    axes[0].plot(df[('PROP_READ','mean')]+1.96*df['PROP_READ','sem'],color='black',alpha=0.5)\n",
    "                    axes[0].plot(df[('PROP_READ','mean')]-1.96*df['PROP_READ','sem'],color='black',alpha=0.5)\n",
    "                    axes[0].set_ylim([0,100])\n",
    "                    axes[0].set_xlim([3,17])\n",
    "                    axes[0].set_xticks(df.index[:-3])\n",
    "                    axes[0].grid()\n",
    "                    \n",
    "                for i in [1,2,3]:\n",
    "\n",
    "                    # subset out the rows we want\n",
    "                    df2=CONSENSUS_SUMMARY.loc[(CONSENSUS_SUMMARY.TYPE==dataset_type.upper()) &\\\n",
    "                                             (CONSENSUS_SUMMARY.TRUTH_SET==truth_set.upper()) &\\\n",
    "                                             (CONSENSUS_SUMMARY.METHOD==methods[i-1].upper()) &\\\n",
    "                                             (CONSENSUS_SUMMARY.READINGDAY==reading_day) &\\\n",
    "                                             (CONSENSUS_SUMMARY.GROWTH==growth) &\\\n",
    "                                             (CONSENSUS_SUMMARY.STDDEV=='ALL') &\\\n",
    "                                             (CONSENSUS_SUMMARY.DRUG=='ALL')]\n",
    "                    if not df2.empty:\n",
    "\n",
    "                        # aggregate over the bootstrapped runs\n",
    "                        df=df2[['N_CLASSIFICATIONS','ESSENTIAL_AGREEMENT','EXACT_AGREEMENT']].groupby(['N_CLASSIFICATIONS']).agg([numpy.mean,stats.sem])\n",
    "\n",
    "                        axes[i].plot(df[('ESSENTIAL_AGREEMENT','mean')],color=bashthebug_colours['red'])\n",
    "                        axes[i].plot(df[('ESSENTIAL_AGREEMENT','mean')]+1.96*df['ESSENTIAL_AGREEMENT','sem'],color=bashthebug_colours['red'],alpha=0.5)\n",
    "                        axes[i].plot(df[('ESSENTIAL_AGREEMENT','mean')]-1.96*df['ESSENTIAL_AGREEMENT','sem'],color=bashthebug_colours['red'],alpha=0.5)\n",
    "                        axes[i].plot(df[('EXACT_AGREEMENT','mean')],color=bashthebug_colours['green'])\n",
    "                        axes[i].plot(df[('EXACT_AGREEMENT','mean')]+1.96*df['EXACT_AGREEMENT','sem'],color=bashthebug_colours['green'],alpha=0.5)\n",
    "                        axes[i].plot(df[('EXACT_AGREEMENT','mean')]-1.96*df['EXACT_AGREEMENT','sem'],color=bashthebug_colours['green'],alpha=0.5)\n",
    "                        axes[i].set_ylim([0,100])\n",
    "                        if i==3:\n",
    "                            axes[i].set_xticks(df.index[:-2])\n",
    "                        else:\n",
    "                            axes[i].set_xticks(df.index[:-3])\n",
    "\n",
    "                        axes[i].grid()\n",
    "                        if dataset_type=='reproducibility':\n",
    "                            axes[i].plot((3,17),(95,95),color='black',linestyle='--')                \n",
    "                        else:\n",
    "                            axes[i].plot((3,17),(90,90),color='black',linestyle='--')\n",
    "\n",
    "                        axes[i].set_xlim([3,17])\n",
    "                        \n",
    "                    if growth=='ALL':\n",
    "                        path=pathlib.Path.cwd() / 'pdf' / str(reading_day) / dataset_type / truth_set /  'all' \n",
    "                    else:\n",
    "                        path=pathlib.Path.cwd() / 'pdf' / str(reading_day) / dataset_type / truth_set /  'all' / growth.lower()\n",
    "                        \n",
    "                    path.mkdir(parents=True,exist_ok=True)\n",
    "                    filename = 'summary-'+str(reading_day)+'-'+dataset_type+'-'+truth_set+'-growth-'+growth.lower()+'-combined.pdf'                    \n",
    "\n",
    "                    fig.savefig(path / filename ,bbox_inches=0)\n",
    "\n",
    "                    if reading_day==14 and dataset_type in ['reproducibility'] and growth=='ALL':\n",
    "                        continue\n",
    "\n",
    "                    plt.close()\n",
    "\n"
   ]
  },
  {
   "cell_type": "markdown",
   "metadata": {},
   "source": [
    "## Fig SX. Separate graphs"
   ]
  },
  {
   "cell_type": "code",
   "execution_count": 52,
   "metadata": {},
   "outputs": [
    {
     "data": {
      "image/png": "[encoded data removed]",
      "text/plain": [
       "<Figure size 468x288 with 1 Axes>"
      ]
     },
     "metadata": {
      "needs_background": "light"
     },
     "output_type": "display_data"
    },
    {
     "data": {
      "image/png": "[encoded data removed]",
      "text/plain": [
       "<Figure size 468x288 with 1 Axes>"
      ]
     },
     "metadata": {
      "needs_background": "light"
     },
     "output_type": "display_data"
    },
    {
     "data": {
      "image/png": "[encoded data removed]",
      "text/plain": [
       "<Figure size 468x288 with 1 Axes>"
      ]
     },
     "metadata": {
      "needs_background": "light"
     },
     "output_type": "display_data"
    },
    {
     "data": {
      "image/png": "[encoded data removed]",
      "text/plain": [
       "<Figure size 468x288 with 1 Axes>"
      ]
     },
     "metadata": {
      "needs_background": "light"
     },
     "output_type": "display_data"
    }
   ],
   "source": [
    "for dataset_type in ['reproducibility','accuracy']:\n",
    "    \n",
    "    for truth_set in ['truth_set_1','truth_set_2','truth_set_3']:\n",
    "    \n",
    "        for reading_day in [7,10,14,21]:\n",
    "\n",
    "            for growth in ['ALL','HIGH','MEDIUM','LOW']:\n",
    "\n",
    "                for method in ['mean','median','mode']:\n",
    "\n",
    "                    # subset out the rows we want\n",
    "                    df=CONSENSUS_SUMMARY.loc[(CONSENSUS_SUMMARY.TYPE==dataset_type.upper()) &\\\n",
    "                                             (CONSENSUS_SUMMARY.TRUTH_SET==truth_set.upper()) &\\\n",
    "                                             (CONSENSUS_SUMMARY.METHOD==method.upper()) &\\\n",
    "                                             (CONSENSUS_SUMMARY.READINGDAY==reading_day) &\\\n",
    "                                             (CONSENSUS_SUMMARY.GROWTH==growth) &\\\n",
    "                                             (CONSENSUS_SUMMARY.STDDEV=='ALL') &\\\n",
    "                                             (CONSENSUS_SUMMARY.DRUG=='ALL') ]\n",
    "\n",
    "                    # aggregate over the bootstrapped runs\n",
    "                    df=df[['N_CLASSIFICATIONS','ESSENTIAL_AGREEMENT','EXACT_AGREEMENT']].groupby(['N_CLASSIFICATIONS']).agg([numpy.mean,stats.sem])\n",
    "\n",
    "                    fig,axes=plt.subplots(1,1,figsize=(6.5,4))\n",
    "                    axes.plot(df[('ESSENTIAL_AGREEMENT','mean')],color=bashthebug_colours['red'])\n",
    "                    axes.plot(df[('ESSENTIAL_AGREEMENT','mean')]+1.96*df['ESSENTIAL_AGREEMENT','sem'],color=bashthebug_colours['red'],alpha=0.5)\n",
    "                    axes.plot(df[('ESSENTIAL_AGREEMENT','mean')]-1.96*df['ESSENTIAL_AGREEMENT','sem'],color=bashthebug_colours['red'],alpha=0.5)\n",
    "                    axes.plot(df[('EXACT_AGREEMENT','mean')],color=bashthebug_colours['green'])\n",
    "                    axes.plot(df[('EXACT_AGREEMENT','mean')]+1.96*df['EXACT_AGREEMENT','sem'],color=bashthebug_colours['green'],alpha=0.5)\n",
    "                    axes.plot(df[('EXACT_AGREEMENT','mean')]-1.96*df['EXACT_AGREEMENT','sem'],color=bashthebug_colours['green'],alpha=0.5)\n",
    "                    axes.set_ylim([0,100])\n",
    "    #                 axes.set_ylabel('Percentage')\n",
    "    #                 axes.set_xlabel('Number of classifications in consensus')\n",
    "                    axes.set_xticks(df.index)\n",
    "                    axes.grid()\n",
    "                    axes.set_xlim([3,17])\n",
    "                    if dataset_type=='reproducibility':\n",
    "                        axes.plot((3,17),(95,95),color='black',linestyle='--')                \n",
    "                    else:\n",
    "                        axes.plot((3,17),(90,90),color='black',linestyle='--')\n",
    "\n",
    "                    if growth=='ALL':\n",
    "                        path=pathlib.Path.cwd() / 'pdf' / str(reading_day) / dataset_type / truth_set / 'all' \n",
    "                    else:\n",
    "                        path=pathlib.Path.cwd() / 'pdf' / str(reading_day) / dataset_type / truth_set / 'all' / growth.lower()\n",
    "                        \n",
    "                    path.mkdir(parents=True,exist_ok=True)\n",
    "                    filename = 'summary-'+str(reading_day)+'-'+dataset_type+'-'+truth_set+'-growth-'+growth.lower()+'-'+method+'.pdf'\n",
    "\n",
    "                    fig.savefig(path / filename ,bbox_inches=0)\n",
    "\n",
    "                    if reading_day==14 and dataset_type in ['reproducibility'] and method=='mean' and truth_set=='truth_set_3':\n",
    "                        continue\n",
    "\n",
    "                    plt.close()\n"
   ]
  },
  {
   "cell_type": "markdown",
   "metadata": {},
   "source": [
    "## Fig SXX. By drug"
   ]
  },
  {
   "cell_type": "code",
   "execution_count": 53,
   "metadata": {},
   "outputs": [
    {
     "name": "stderr",
     "output_type": "stream",
     "text": [
      "  0%|          | 0/2 [00:00<?, ?it/s]\n",
      "  0%|          | 0/3 [00:00<?, ?it/s]\u001b[A\n",
      " 33%|███▎      | 1/3 [00:02<00:04,  2.23s/it]\u001b[A\n",
      " 67%|██████▋   | 2/3 [00:04<00:02,  2.21s/it]\u001b[A\n",
      "100%|██████████| 3/3 [00:06<00:00,  2.22s/it]\u001b[A\n",
      " 50%|█████     | 1/2 [00:06<00:06,  6.65s/it]\n",
      "  0%|          | 0/3 [00:00<?, ?it/s]\u001b[A\n",
      " 33%|███▎      | 1/3 [00:03<00:06,  3.11s/it]\u001b[A\n",
      " 67%|██████▋   | 2/3 [00:05<00:02,  2.58s/it]\u001b[A\n",
      "100%|██████████| 3/3 [00:07<00:00,  2.55s/it]\u001b[A\n",
      "100%|██████████| 2/2 [00:14<00:00,  7.15s/it]\n"
     ]
    },
    {
     "data": {
      "image/png": "[encoded data removed]",
      "text/plain": [
       "<Figure size 468x288 with 1 Axes>"
      ]
     },
     "metadata": {
      "needs_background": "light"
     },
     "output_type": "display_data"
    },
    {
     "data": {
      "image/png": "[encoded data removed]",
      "text/plain": [
       "<Figure size 468x288 with 1 Axes>"
      ]
     },
     "metadata": {
      "needs_background": "light"
     },
     "output_type": "display_data"
    },
    {
     "data": {
      "image/png": "[encoded data removed]",
      "text/plain": [
       "<Figure size 468x288 with 1 Axes>"
      ]
     },
     "metadata": {
      "needs_background": "light"
     },
     "output_type": "display_data"
    }
   ],
   "source": [
    "for dataset_type in tqdm(['reproducibility','accuracy']):\n",
    "    \n",
    "    for truth_set in tqdm(['truth_set_1','truth_set_2','truth_set_3']):\n",
    "    \n",
    "        for reading_day in [14]:\n",
    "\n",
    "            for drug in ['AMI', 'BDQ', 'CFZ', 'DLM', 'EMB', 'ETH', 'INH', 'KAN', 'LEV', 'LZD', 'MXF', 'PAS', 'RFB', 'RIF']:\n",
    "\n",
    "                for method in ['median']:\n",
    "\n",
    "                    # subset out the rows we want\n",
    "                    df=CONSENSUS_SUMMARY.loc[(CONSENSUS_SUMMARY.TYPE==dataset_type.upper()) &\\\n",
    "                                             (CONSENSUS_SUMMARY.TRUTH_SET==truth_set.upper()) &\\\n",
    "                                             (CONSENSUS_SUMMARY.METHOD==method.upper()) &\\\n",
    "                                             (CONSENSUS_SUMMARY.READINGDAY==reading_day) &\\\n",
    "                                             (CONSENSUS_SUMMARY.GROWTH=='ALL') &\\\n",
    "                                             (CONSENSUS_SUMMARY.STDDEV=='ALL') &\\\n",
    "                                             (CONSENSUS_SUMMARY.DRUG==drug) ]\n",
    "\n",
    "                    # aggregate over the bootstrapped runs\n",
    "                    df=df[['N_CLASSIFICATIONS','ESSENTIAL_AGREEMENT','EXACT_AGREEMENT']].groupby(['N_CLASSIFICATIONS']).agg([numpy.mean,stats.sem])\n",
    "\n",
    "                    fig,axes=plt.subplots(1,1,figsize=(6.5,4))\n",
    "                    axes.plot(df[('ESSENTIAL_AGREEMENT','mean')],color=bashthebug_colours['red'])\n",
    "                    axes.plot(df[('ESSENTIAL_AGREEMENT','mean')]+1.96*df['ESSENTIAL_AGREEMENT','sem'],color=bashthebug_colours['red'],alpha=0.5)\n",
    "                    axes.plot(df[('ESSENTIAL_AGREEMENT','mean')]-1.96*df['ESSENTIAL_AGREEMENT','sem'],color=bashthebug_colours['red'],alpha=0.5)\n",
    "                    axes.plot(df[('EXACT_AGREEMENT','mean')],color=bashthebug_colours['green'])\n",
    "                    axes.plot(df[('EXACT_AGREEMENT','mean')]+1.96*df['EXACT_AGREEMENT','sem'],color=bashthebug_colours['green'],alpha=0.5)\n",
    "                    axes.plot(df[('EXACT_AGREEMENT','mean')]-1.96*df['EXACT_AGREEMENT','sem'],color=bashthebug_colours['green'],alpha=0.5)\n",
    "                    axes.set_ylim([0,100])\n",
    "    #                 axes.set_ylabel('Percentage')\n",
    "    #                 axes.set_xlabel('Number of classifications in consensus')\n",
    "                    axes.set_xticks(df.index)\n",
    "                    axes.grid()\n",
    "                    axes.set_xlim([3,17])\n",
    "                    if dataset_type=='reproducibility':\n",
    "                        axes.plot((3,17),(95,95),color='black',linestyle='--')                \n",
    "                    else:\n",
    "                        axes.plot((3,17),(90,90),color='black',linestyle='--')\n",
    "\n",
    "                    path=pathlib.Path.cwd() / 'pdf' / str(reading_day) / dataset_type / truth_set / 'all' \n",
    "                        \n",
    "                    path.mkdir(parents=True,exist_ok=True)\n",
    "                    filename = 'summary-'+str(reading_day)+'-'+dataset_type+'-'+truth_set+'-growth-all-'+method+'-'+drug+'.pdf'\n",
    "\n",
    "                    fig.savefig(path / filename ,bbox_inches=0)\n",
    "\n",
    "                    if reading_day==14 and dataset_type in ['reproducibility'] and method=='median' and drug=='INH':\n",
    "                        continue\n",
    "\n",
    "                    plt.close()\n"
   ]
  },
  {
   "cell_type": "code",
   "execution_count": null,
   "metadata": {},
   "outputs": [],
   "source": []
  }
 ],
 "metadata": {
  "kernelspec": {
   "display_name": "Python 3 (ipykernel)",
   "language": "python",
   "name": "python3"
  },
  "language_info": {
   "codemirror_mode": {
    "name": "ipython",
    "version": 3
   },
   "file_extension": ".py",
   "mimetype": "text/x-python",
   "name": "python",
   "nbconvert_exporter": "python",
   "pygments_lexer": "ipython3",
   "version": "3.8.12"
  }
 },
 "nbformat": 4,
 "nbformat_minor": 4
}
